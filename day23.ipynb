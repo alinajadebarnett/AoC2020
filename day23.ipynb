{
  "nbformat": 4,
  "nbformat_minor": 0,
  "metadata": {
    "colab": {
      "name": "day23.ipynb",
      "provenance": [],
      "collapsed_sections": []
    },
    "kernelspec": {
      "name": "python3",
      "display_name": "Python 3"
    }
  },
  "cells": [
    {
      "cell_type": "markdown",
      "metadata": {
        "id": "nWaPiFo0RhyW"
      },
      "source": [
        "https://adventofcode.com/2020/day/23"
      ]
    },
    {
      "cell_type": "code",
      "metadata": {
        "id": "SKMKHgXI7Ive"
      },
      "source": [
        "input = r'''247819356'''"
      ],
      "execution_count": 1,
      "outputs": []
    },
    {
      "cell_type": "code",
      "metadata": {
        "id": "_4t_qmA6-H29"
      },
      "source": [
        "test_input = r'''389125467'''"
      ],
      "execution_count": 2,
      "outputs": []
    },
    {
      "cell_type": "code",
      "metadata": {
        "id": "Ssq2I6LV7QsQ"
      },
      "source": [
        "from copy import copy\n",
        "from tqdm import tqdm"
      ],
      "execution_count": 3,
      "outputs": []
    },
    {
      "cell_type": "code",
      "metadata": {
        "id": "ixJTWQht7fVV"
      },
      "source": [
        "def iteration(nums):\n",
        "  nums_max = max(nums)\n",
        "  nums = copy(nums)\n",
        "  held = nums[1:4]\n",
        "  nums = [nums[0]] + nums[4:]\n",
        "  current_cup = nums[0]\n",
        "  looking_for = current_cup -1\n",
        "  while looking_for not in nums:\n",
        "    looking_for -= 1\n",
        "    if looking_for == 0 or looking_for == -1:\n",
        "      looking_for = nums_max\n",
        "  destination_index = nums.index(looking_for)\n",
        "  nums = nums[:destination_index+1] + held + nums[destination_index+1:]\n",
        "  nums = nums[1:] + [nums[0]]\n",
        "  return nums\n",
        "\n",
        "def main(input, times=100, debug=False):\n",
        "  nums = [int(d) for d in input]\n",
        "  \n",
        "  for _ in range(times):\n",
        "    if debug:\n",
        "      print(nums)\n",
        "    nums = iteration(nums)\n",
        "\n",
        "  idx = nums.index(1)\n",
        "  ret = ''.join([str(n) for n in nums])\n",
        "  return ret[idx+1:] + ret[:idx]"
      ],
      "execution_count": 4,
      "outputs": []
    },
    {
      "cell_type": "code",
      "metadata": {
        "id": "HPjAV-9CIRzR",
        "colab": {
          "base_uri": "https://localhost:8080/",
          "height": 205
        },
        "outputId": "30f3dce7-11c7-4a23-87c5-ce0329a61a31"
      },
      "source": [
        "main(test_input, 10, debug=True)"
      ],
      "execution_count": 5,
      "outputs": [
        {
          "output_type": "stream",
          "text": [
            "[3, 8, 9, 1, 2, 5, 4, 6, 7]\n",
            "[2, 8, 9, 1, 5, 4, 6, 7, 3]\n",
            "[5, 4, 6, 7, 8, 9, 1, 3, 2]\n",
            "[8, 9, 1, 3, 4, 6, 7, 2, 5]\n",
            "[4, 6, 7, 9, 1, 3, 2, 5, 8]\n",
            "[1, 3, 6, 7, 9, 2, 5, 8, 4]\n",
            "[9, 3, 6, 7, 2, 5, 8, 4, 1]\n",
            "[2, 5, 8, 3, 6, 7, 4, 1, 9]\n",
            "[6, 7, 4, 1, 5, 8, 3, 9, 2]\n",
            "[5, 7, 4, 1, 8, 3, 9, 2, 6]\n"
          ],
          "name": "stdout"
        },
        {
          "output_type": "execute_result",
          "data": {
            "application/vnd.google.colaboratory.intrinsic+json": {
              "type": "string"
            },
            "text/plain": [
              "'92658374'"
            ]
          },
          "metadata": {
            "tags": []
          },
          "execution_count": 5
        }
      ]
    },
    {
      "cell_type": "code",
      "metadata": {
        "colab": {
          "base_uri": "https://localhost:8080/",
          "height": 35
        },
        "id": "IadrL8bQAFYn",
        "outputId": "ea4870b5-bd9f-42c4-f506-379b931c29b0"
      },
      "source": [
        "main(input, 100)"
      ],
      "execution_count": 6,
      "outputs": [
        {
          "output_type": "execute_result",
          "data": {
            "application/vnd.google.colaboratory.intrinsic+json": {
              "type": "string"
            },
            "text/plain": [
              "'76385429'"
            ]
          },
          "metadata": {
            "tags": []
          },
          "execution_count": 6
        }
      ]
    },
    {
      "cell_type": "markdown",
      "metadata": {
        "id": "wCfuWcDqD70S"
      },
      "source": [
        "https://adventofcode.com/2020/day/23#part2"
      ]
    },
    {
      "cell_type": "markdown",
      "metadata": {
        "id": "aAMI4LC3UDuK"
      },
      "source": [
        "Initially, we had the idea to represent the list of numbers with tuples representing ranges of consecutive numbers. Alina realized that the consecutive ranges would be broken up quickly, so this would not be useful. Also, the code for this was surprisingly laborious to write.\r\n",
        "\r\n",
        "We knew that naively running our code from part one would be much too slow, but we wrote the following cell to try it out:"
      ]
    },
    {
      "cell_type": "code",
      "metadata": {
        "id": "dm36nKCyIroh"
      },
      "source": [
        "def iteration(nums):\r\n",
        "  nums_max = max(nums)\r\n",
        "  nums = copy(nums)\r\n",
        "  held = nums[1:4]\r\n",
        "  nums = [nums[0]] + nums[4:]\r\n",
        "  current_cup = nums[0]\r\n",
        "  looking_for = current_cup -1\r\n",
        "  while looking_for not in nums:\r\n",
        "    looking_for -= 1\r\n",
        "    if looking_for == 0 or looking_for == -1:\r\n",
        "      looking_for = nums_max\r\n",
        "  destination_index = nums.index(looking_for)\r\n",
        "  nums = nums[:destination_index+1] + held + nums[destination_index+1:]\r\n",
        "  nums = nums[1:] + [nums[0]]\r\n",
        "  return nums\r\n",
        "\r\n",
        "def main(input, times=100, debug=False):\r\n",
        "  nums = [int(d) for d in input]\r\n",
        "  nums += list(range(max(nums)+1, 1000000 + 1))\r\n",
        "  if debug:\r\n",
        "    print(max(nums))\r\n",
        "  \r\n",
        "  for _ in tqdm(range(times), position=0, leave=True):\r\n",
        "    # if debug:\r\n",
        "    #   print(nums)\r\n",
        "    nums = iteration(nums)\r\n",
        "\r\n",
        "  one_index = nums.index(1)\r\n",
        "\r\n",
        "  return nums[(one_index+1)%len(nums)] * nums[(one_index+2)%len(nums)]"
      ],
      "execution_count": 7,
      "outputs": []
    },
    {
      "cell_type": "code",
      "metadata": {
        "colab": {
          "base_uri": "https://localhost:8080/",
          "height": 323
        },
        "id": "PyqYDbbTWU2f",
        "outputId": "a748b8d4-24b4-461a-fb4a-d5cdd2720402"
      },
      "source": [
        "main(input, times=10000000)"
      ],
      "execution_count": 8,
      "outputs": [
        {
          "output_type": "stream",
          "text": [
            "  0%|          | 1746/10000000 [03:39<348:48:22,  7.96it/s]"
          ],
          "name": "stderr"
        },
        {
          "output_type": "error",
          "ename": "KeyboardInterrupt",
          "evalue": "ignored",
          "traceback": [
            "\u001b[0;31m---------------------------------------------------------------------------\u001b[0m",
            "\u001b[0;31mKeyboardInterrupt\u001b[0m                         Traceback (most recent call last)",
            "\u001b[0;32m<ipython-input-8-e23e67bff4c7>\u001b[0m in \u001b[0;36m<module>\u001b[0;34m()\u001b[0m\n\u001b[0;32m----> 1\u001b[0;31m \u001b[0mmain\u001b[0m\u001b[0;34m(\u001b[0m\u001b[0minput\u001b[0m\u001b[0;34m,\u001b[0m \u001b[0mtimes\u001b[0m\u001b[0;34m=\u001b[0m\u001b[0;36m10000000\u001b[0m\u001b[0;34m)\u001b[0m\u001b[0;34m\u001b[0m\u001b[0;34m\u001b[0m\u001b[0m\n\u001b[0m",
            "\u001b[0;32m<ipython-input-7-98a2ba043855>\u001b[0m in \u001b[0;36mmain\u001b[0;34m(input, times, debug)\u001b[0m\n\u001b[1;32m     24\u001b[0m     \u001b[0;31m# if debug:\u001b[0m\u001b[0;34m\u001b[0m\u001b[0;34m\u001b[0m\u001b[0;34m\u001b[0m\u001b[0m\n\u001b[1;32m     25\u001b[0m     \u001b[0;31m#   print(nums)\u001b[0m\u001b[0;34m\u001b[0m\u001b[0;34m\u001b[0m\u001b[0;34m\u001b[0m\u001b[0m\n\u001b[0;32m---> 26\u001b[0;31m     \u001b[0mnums\u001b[0m \u001b[0;34m=\u001b[0m \u001b[0miteration\u001b[0m\u001b[0;34m(\u001b[0m\u001b[0mnums\u001b[0m\u001b[0;34m)\u001b[0m\u001b[0;34m\u001b[0m\u001b[0;34m\u001b[0m\u001b[0m\n\u001b[0m\u001b[1;32m     27\u001b[0m \u001b[0;34m\u001b[0m\u001b[0m\n\u001b[1;32m     28\u001b[0m   \u001b[0mone_index\u001b[0m \u001b[0;34m=\u001b[0m \u001b[0mnums\u001b[0m\u001b[0;34m.\u001b[0m\u001b[0mindex\u001b[0m\u001b[0;34m(\u001b[0m\u001b[0;36m1\u001b[0m\u001b[0;34m)\u001b[0m\u001b[0;34m\u001b[0m\u001b[0;34m\u001b[0m\u001b[0m\n",
            "\u001b[0;32m<ipython-input-7-98a2ba043855>\u001b[0m in \u001b[0;36miteration\u001b[0;34m(nums)\u001b[0m\n\u001b[1;32m     11\u001b[0m       \u001b[0mlooking_for\u001b[0m \u001b[0;34m=\u001b[0m \u001b[0mnums_max\u001b[0m\u001b[0;34m\u001b[0m\u001b[0;34m\u001b[0m\u001b[0m\n\u001b[1;32m     12\u001b[0m   \u001b[0mdestination_index\u001b[0m \u001b[0;34m=\u001b[0m \u001b[0mnums\u001b[0m\u001b[0;34m.\u001b[0m\u001b[0mindex\u001b[0m\u001b[0;34m(\u001b[0m\u001b[0mlooking_for\u001b[0m\u001b[0;34m)\u001b[0m\u001b[0;34m\u001b[0m\u001b[0;34m\u001b[0m\u001b[0m\n\u001b[0;32m---> 13\u001b[0;31m   \u001b[0mnums\u001b[0m \u001b[0;34m=\u001b[0m \u001b[0mnums\u001b[0m\u001b[0;34m[\u001b[0m\u001b[0;34m:\u001b[0m\u001b[0mdestination_index\u001b[0m\u001b[0;34m+\u001b[0m\u001b[0;36m1\u001b[0m\u001b[0;34m]\u001b[0m \u001b[0;34m+\u001b[0m \u001b[0mheld\u001b[0m \u001b[0;34m+\u001b[0m \u001b[0mnums\u001b[0m\u001b[0;34m[\u001b[0m\u001b[0mdestination_index\u001b[0m\u001b[0;34m+\u001b[0m\u001b[0;36m1\u001b[0m\u001b[0;34m:\u001b[0m\u001b[0;34m]\u001b[0m\u001b[0;34m\u001b[0m\u001b[0;34m\u001b[0m\u001b[0m\n\u001b[0m\u001b[1;32m     14\u001b[0m   \u001b[0mnums\u001b[0m \u001b[0;34m=\u001b[0m \u001b[0mnums\u001b[0m\u001b[0;34m[\u001b[0m\u001b[0;36m1\u001b[0m\u001b[0;34m:\u001b[0m\u001b[0;34m]\u001b[0m \u001b[0;34m+\u001b[0m \u001b[0;34m[\u001b[0m\u001b[0mnums\u001b[0m\u001b[0;34m[\u001b[0m\u001b[0;36m0\u001b[0m\u001b[0;34m]\u001b[0m\u001b[0;34m]\u001b[0m\u001b[0;34m\u001b[0m\u001b[0;34m\u001b[0m\u001b[0m\n\u001b[1;32m     15\u001b[0m   \u001b[0;32mreturn\u001b[0m \u001b[0mnums\u001b[0m\u001b[0;34m\u001b[0m\u001b[0;34m\u001b[0m\u001b[0m\n",
            "\u001b[0;31mKeyboardInterrupt\u001b[0m: "
          ]
        }
      ]
    },
    {
      "cell_type": "markdown",
      "metadata": {
        "id": "qR6jCm2MW5hy"
      },
      "source": [
        "Finally we realized we should used a circularly linked list! We use a doubly linked list here, but we suspect we could have used a singularly linked list."
      ]
    },
    {
      "cell_type": "code",
      "metadata": {
        "id": "jSsmz6KwM2MV"
      },
      "source": [
        "def update(linked, current_cup, debug=False):\r\n",
        "  nums_max = len(linked) - 1\r\n",
        "\r\n",
        "  # build the set of \"held\" or set aside cups\r\n",
        "  f = linked[current_cup][1]\r\n",
        "  s = linked[f][1]\r\n",
        "  t = linked[s][1]\r\n",
        "  after = linked[t][1]\r\n",
        "  linked[current_cup][1] = after\r\n",
        "  linked[after][0] = current_cup\r\n",
        "\r\n",
        "  # find the location where the held set will be inserted\r\n",
        "  looking_for = current_cup - 1\r\n",
        "  if looking_for < 1:\r\n",
        "    looking_for = nums_max\r\n",
        "  while looking_for in (f, s, t):\r\n",
        "    looking_for -= 1\r\n",
        "    if looking_for < 1:\r\n",
        "      looking_for = nums_max\r\n",
        "\r\n",
        "  # insert the held set back in\r\n",
        "  after_insert = linked[looking_for][1]\r\n",
        "  linked[looking_for][1] = f\r\n",
        "  linked[f][0] = looking_for\r\n",
        "  linked[t][1] = after_insert\r\n",
        "  linked[after_insert][0] = t\r\n",
        "\r\n",
        "  # update the current cup\r\n",
        "  current_cup = linked[current_cup][1]\r\n",
        "\r\n",
        "  # return the results\r\n",
        "  return linked, current_cup\r\n",
        "\r\n",
        "def main(input, times=100, debug=False):\r\n",
        "  nums = [int(d) for d in input]\r\n",
        "  nums += list(range(max(nums)+1, 1000000 + 1))\r\n",
        "\r\n",
        "  linked = [None] * (len(nums) + 1)\r\n",
        "  for i, n in enumerate(nums):\r\n",
        "    linked[n] = [nums[(i-1)%len(nums)], nums[(i+1)%len(nums)]]\r\n",
        "\r\n",
        "  current_cup = nums[0]\r\n",
        "  \r\n",
        "  for _ in tqdm(range(times), position=0, leave=True):\r\n",
        "    linked, current_cup = update(linked, current_cup, debug=debug)\r\n",
        "\r\n",
        "  after_one = linked[1][1]\r\n",
        "  after_after_one = linked[after_one][1]\r\n",
        "\r\n",
        "  return after_one * after_after_one"
      ],
      "execution_count": 9,
      "outputs": []
    },
    {
      "cell_type": "code",
      "metadata": {
        "colab": {
          "base_uri": "https://localhost:8080/"
        },
        "id": "qo5vHs_OEHIO",
        "outputId": "094ba9f7-6549-4c2e-c753-c42d86e89bfd"
      },
      "source": [
        "main(test_input, times=10000000)"
      ],
      "execution_count": 10,
      "outputs": [
        {
          "output_type": "stream",
          "text": [
            "100%|██████████| 10000000/10000000 [00:22<00:00, 441474.51it/s]\n"
          ],
          "name": "stderr"
        },
        {
          "output_type": "execute_result",
          "data": {
            "text/plain": [
              "149245887792"
            ]
          },
          "metadata": {
            "tags": []
          },
          "execution_count": 10
        }
      ]
    },
    {
      "cell_type": "code",
      "metadata": {
        "colab": {
          "base_uri": "https://localhost:8080/"
        },
        "id": "Qo85nKMDENAv",
        "outputId": "46d24915-41e8-4504-d51d-dfdd603dbd33"
      },
      "source": [
        "main(input, times=10000000)"
      ],
      "execution_count": 11,
      "outputs": [
        {
          "output_type": "stream",
          "text": [
            "100%|██████████| 10000000/10000000 [00:23<00:00, 427024.92it/s]\n"
          ],
          "name": "stderr"
        },
        {
          "output_type": "execute_result",
          "data": {
            "text/plain": [
              "12621748849"
            ]
          },
          "metadata": {
            "tags": []
          },
          "execution_count": 11
        }
      ]
    }
  ]
}