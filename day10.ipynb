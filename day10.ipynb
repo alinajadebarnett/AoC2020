{
  "nbformat": 4,
  "nbformat_minor": 0,
  "metadata": {
    "colab": {
      "name": "day10.ipynb",
      "provenance": [],
      "collapsed_sections": []
    },
    "kernelspec": {
      "name": "python3",
      "display_name": "Python 3"
    }
  },
  "cells": [
    {
      "cell_type": "code",
      "metadata": {
        "id": "SKMKHgXI7Ive"
      },
      "source": [
        "input = r'''153\r\n",
        "17\r\n",
        "45\r\n",
        "57\r\n",
        "16\r\n",
        "147\r\n",
        "39\r\n",
        "121\r\n",
        "75\r\n",
        "70\r\n",
        "85\r\n",
        "134\r\n",
        "128\r\n",
        "115\r\n",
        "51\r\n",
        "139\r\n",
        "44\r\n",
        "65\r\n",
        "119\r\n",
        "168\r\n",
        "122\r\n",
        "72\r\n",
        "105\r\n",
        "31\r\n",
        "103\r\n",
        "89\r\n",
        "154\r\n",
        "114\r\n",
        "55\r\n",
        "25\r\n",
        "48\r\n",
        "38\r\n",
        "132\r\n",
        "157\r\n",
        "84\r\n",
        "71\r\n",
        "113\r\n",
        "143\r\n",
        "83\r\n",
        "64\r\n",
        "109\r\n",
        "129\r\n",
        "120\r\n",
        "100\r\n",
        "151\r\n",
        "79\r\n",
        "125\r\n",
        "22\r\n",
        "161\r\n",
        "167\r\n",
        "19\r\n",
        "26\r\n",
        "118\r\n",
        "142\r\n",
        "4\r\n",
        "158\r\n",
        "11\r\n",
        "35\r\n",
        "56\r\n",
        "18\r\n",
        "40\r\n",
        "7\r\n",
        "150\r\n",
        "99\r\n",
        "54\r\n",
        "152\r\n",
        "60\r\n",
        "27\r\n",
        "164\r\n",
        "78\r\n",
        "47\r\n",
        "82\r\n",
        "63\r\n",
        "46\r\n",
        "91\r\n",
        "32\r\n",
        "135\r\n",
        "3\r\n",
        "108\r\n",
        "10\r\n",
        "159\r\n",
        "127\r\n",
        "69\r\n",
        "110\r\n",
        "126\r\n",
        "133\r\n",
        "28\r\n",
        "15\r\n",
        "104\r\n",
        "138\r\n",
        "160\r\n",
        "98\r\n",
        "90\r\n",
        "144\r\n",
        "1\r\n",
        "2\r\n",
        "92\r\n",
        "41\r\n",
        "86\r\n",
        "66\r\n",
        "95\r\n",
        "12'''"
      ],
      "execution_count": null,
      "outputs": []
    },
    {
      "cell_type": "code",
      "metadata": {
        "id": "uwku9lZEEM8h"
      },
      "source": [
        "test_input = r'''16\r\n",
        "10\r\n",
        "15\r\n",
        "5\r\n",
        "1\r\n",
        "11\r\n",
        "7\r\n",
        "19\r\n",
        "6\r\n",
        "12\r\n",
        "4'''"
      ],
      "execution_count": null,
      "outputs": []
    },
    {
      "cell_type": "code",
      "metadata": {
        "id": "Ssq2I6LV7QsQ"
      },
      "source": [
        "from itertools import *\n",
        "from more_itertools import *"
      ],
      "execution_count": null,
      "outputs": []
    },
    {
      "cell_type": "code",
      "metadata": {
        "id": "B14y-6uaBw_d"
      },
      "source": [
        "nums = list(map(int, input.split('\\n')))\r\n",
        "nums.sort()"
      ],
      "execution_count": null,
      "outputs": []
    },
    {
      "cell_type": "code",
      "metadata": {
        "colab": {
          "base_uri": "https://localhost:8080/"
        },
        "id": "rs70jEW5BuAy",
        "outputId": "e601b900-1867-4df5-c62f-a59b594fd75a"
      },
      "source": [
        "pos_succ = {}\r\n",
        "\r\n",
        "for num in nums:\r\n",
        "  pos_succ[num] = set(filter(lambda x: num < x <= num+3, nums))\r\n",
        "\r\n",
        "pos_succ[0] = set([1,2,3])\r\n",
        "pos_succ[max(nums)] = set([max(nums)+3])\r\n",
        "pos_succ"
      ],
      "execution_count": null,
      "outputs": [
        {
          "output_type": "execute_result",
          "data": {
            "text/plain": [
              "{0: {1, 2, 3},\n",
              " 1: {2, 3, 4},\n",
              " 2: {3, 4},\n",
              " 3: {4},\n",
              " 4: {7},\n",
              " 7: {10},\n",
              " 10: {11, 12},\n",
              " 11: {12},\n",
              " 12: {15},\n",
              " 15: {16, 17, 18},\n",
              " 16: {17, 18, 19},\n",
              " 17: {18, 19},\n",
              " 18: {19},\n",
              " 19: {22},\n",
              " 22: {25},\n",
              " 25: {26, 27, 28},\n",
              " 26: {27, 28},\n",
              " 27: {28},\n",
              " 28: {31},\n",
              " 31: {32},\n",
              " 32: {35},\n",
              " 35: {38},\n",
              " 38: {39, 40, 41},\n",
              " 39: {40, 41},\n",
              " 40: {41},\n",
              " 41: {44},\n",
              " 44: {45, 46, 47},\n",
              " 45: {46, 47, 48},\n",
              " 46: {47, 48},\n",
              " 47: {48},\n",
              " 48: {51},\n",
              " 51: {54},\n",
              " 54: {55, 56, 57},\n",
              " 55: {56, 57},\n",
              " 56: {57},\n",
              " 57: {60},\n",
              " 60: {63},\n",
              " 63: {64, 65, 66},\n",
              " 64: {65, 66},\n",
              " 65: {66},\n",
              " 66: {69},\n",
              " 69: {70, 71, 72},\n",
              " 70: {71, 72},\n",
              " 71: {72},\n",
              " 72: {75},\n",
              " 75: {78},\n",
              " 78: {79},\n",
              " 79: {82},\n",
              " 82: {83, 84, 85},\n",
              " 83: {84, 85, 86},\n",
              " 84: {85, 86},\n",
              " 85: {86},\n",
              " 86: {89},\n",
              " 89: {90, 91, 92},\n",
              " 90: {91, 92},\n",
              " 91: {92},\n",
              " 92: {95},\n",
              " 95: {98},\n",
              " 98: {99, 100},\n",
              " 99: {100},\n",
              " 100: {103},\n",
              " 103: {104, 105},\n",
              " 104: {105},\n",
              " 105: {108},\n",
              " 108: {109, 110},\n",
              " 109: {110},\n",
              " 110: {113},\n",
              " 113: {114, 115},\n",
              " 114: {115},\n",
              " 115: {118},\n",
              " 118: {119, 120, 121},\n",
              " 119: {120, 121, 122},\n",
              " 120: {121, 122},\n",
              " 121: {122},\n",
              " 122: {125},\n",
              " 125: {126, 127, 128},\n",
              " 126: {127, 128, 129},\n",
              " 127: {128, 129},\n",
              " 128: {129},\n",
              " 129: {132},\n",
              " 132: {133, 134, 135},\n",
              " 133: {134, 135},\n",
              " 134: {135},\n",
              " 135: {138},\n",
              " 138: {139},\n",
              " 139: {142},\n",
              " 142: {143, 144},\n",
              " 143: {144},\n",
              " 144: {147},\n",
              " 147: {150},\n",
              " 150: {151, 152, 153},\n",
              " 151: {152, 153, 154},\n",
              " 152: {153, 154},\n",
              " 153: {154},\n",
              " 154: {157},\n",
              " 157: {158, 159, 160},\n",
              " 158: {159, 160, 161},\n",
              " 159: {160, 161},\n",
              " 160: {161},\n",
              " 161: {164},\n",
              " 164: {167},\n",
              " 167: {168},\n",
              " 168: {171}}"
            ]
          },
          "metadata": {
            "tags": []
          },
          "execution_count": 5
        }
      ]
    },
    {
      "cell_type": "code",
      "metadata": {
        "colab": {
          "base_uri": "https://localhost:8080/"
        },
        "id": "mWP2BNrCCGsT",
        "outputId": "e7529360-593a-4122-f940-1fded4193651"
      },
      "source": [
        "s, t = 0, 1\r\n",
        "for num1, num2 in pairwise([0] + nums):\r\n",
        "  if num2 - num1 == 1:\r\n",
        "    s += 1\r\n",
        "  if num2 - num1 == 3:\r\n",
        "    t += 1\r\n",
        "s * t"
      ],
      "execution_count": null,
      "outputs": [
        {
          "output_type": "execute_result",
          "data": {
            "text/plain": [
              "2346"
            ]
          },
          "metadata": {
            "tags": []
          },
          "execution_count": 6
        }
      ]
    },
    {
      "cell_type": "code",
      "metadata": {
        "colab": {
          "base_uri": "https://localhost:8080/"
        },
        "id": "9v2cEEZuKwip",
        "outputId": "9729f695-4eb9-4f6a-e291-73591d458113"
      },
      "source": [
        "def find_num2(input):\r\n",
        "  nums = list(map(int, input.split('\\n')))\r\n",
        "  nums.sort()\r\n",
        "\r\n",
        "  pos_succ = {}\r\n",
        "  for num in nums:\r\n",
        "    pos_succ[num] = tuple(filter(lambda x: num < x <= num+3, nums))\r\n",
        "  pos_succ[0] = tuple(filter(lambda x: x in nums, [1,2,3]))\r\n",
        "  pos_succ[max(nums)] = tuple([max(nums)+3])\r\n",
        "  print(pos_succ)\r\n",
        "\r\n",
        "  paths = {nums[-1]: 1}\r\n",
        "  # print(nums[-1])\r\n",
        "\r\n",
        "  obj = nums + [0]\r\n",
        "  obj.sort(reverse=True)\r\n",
        "\r\n",
        "  end = max(nums) + 3\r\n",
        "\r\n",
        "  for n in obj:\r\n",
        "    acc = 0\r\n",
        "    for succ in pos_succ[n]:\r\n",
        "      if succ == end:\r\n",
        "        acc += 1\r\n",
        "      else:\r\n",
        "        acc += paths[succ]\r\n",
        "    paths[n] = acc\r\n",
        "\r\n",
        "  return paths[0]\r\n",
        "\r\n",
        "find_num2(input)"
      ],
      "execution_count": null,
      "outputs": [
        {
          "output_type": "stream",
          "text": [
            "{1: (2, 3, 4), 2: (3, 4), 3: (4,), 4: (7,), 7: (10,), 10: (11, 12), 11: (12,), 12: (15,), 15: (16, 17, 18), 16: (17, 18, 19), 17: (18, 19), 18: (19,), 19: (22,), 22: (25,), 25: (26, 27, 28), 26: (27, 28), 27: (28,), 28: (31,), 31: (32,), 32: (35,), 35: (38,), 38: (39, 40, 41), 39: (40, 41), 40: (41,), 41: (44,), 44: (45, 46, 47), 45: (46, 47, 48), 46: (47, 48), 47: (48,), 48: (51,), 51: (54,), 54: (55, 56, 57), 55: (56, 57), 56: (57,), 57: (60,), 60: (63,), 63: (64, 65, 66), 64: (65, 66), 65: (66,), 66: (69,), 69: (70, 71, 72), 70: (71, 72), 71: (72,), 72: (75,), 75: (78,), 78: (79,), 79: (82,), 82: (83, 84, 85), 83: (84, 85, 86), 84: (85, 86), 85: (86,), 86: (89,), 89: (90, 91, 92), 90: (91, 92), 91: (92,), 92: (95,), 95: (98,), 98: (99, 100), 99: (100,), 100: (103,), 103: (104, 105), 104: (105,), 105: (108,), 108: (109, 110), 109: (110,), 110: (113,), 113: (114, 115), 114: (115,), 115: (118,), 118: (119, 120, 121), 119: (120, 121, 122), 120: (121, 122), 121: (122,), 122: (125,), 125: (126, 127, 128), 126: (127, 128, 129), 127: (128, 129), 128: (129,), 129: (132,), 132: (133, 134, 135), 133: (134, 135), 134: (135,), 135: (138,), 138: (139,), 139: (142,), 142: (143, 144), 143: (144,), 144: (147,), 147: (150,), 150: (151, 152, 153), 151: (152, 153, 154), 152: (153, 154), 153: (154,), 154: (157,), 157: (158, 159, 160), 158: (159, 160, 161), 159: (160, 161), 160: (161,), 161: (164,), 164: (167,), 167: (168,), 168: (171,), 0: (1, 2, 3)}\n"
          ],
          "name": "stdout"
        },
        {
          "output_type": "execute_result",
          "data": {
            "text/plain": [
              "6044831973376"
            ]
          },
          "metadata": {
            "tags": []
          },
          "execution_count": 7
        }
      ]
    },
    {
      "cell_type": "code",
      "metadata": {
        "id": "ywM4jVlPE4hL"
      },
      "source": [
        "#takes way too long.\r\n",
        "\r\n",
        "def find_ways(input):\r\n",
        "  nums = list(map(int, input.split('\\n')))\r\n",
        "\r\n",
        "  s = 0\r\n",
        "  for k in range(1, len(nums)+1):\r\n",
        "    for comb_ in list(combinations(nums, k)):\r\n",
        "      comb = list(comb_)\r\n",
        "      comb.sort()\r\n",
        "      # print(comb)\r\n",
        "      flag = (comb[0] <= 3 and comb[-1] == max(nums))\r\n",
        "      for a, b in pairwise(comb):\r\n",
        "        if b-a > 3:\r\n",
        "          flag = False\r\n",
        "          break\r\n",
        "      # print(flag)\r\n",
        "      if flag == True:\r\n",
        "        s += 1\r\n",
        "  return s\r\n",
        "\r\n",
        "find_ways(input)"
      ],
      "execution_count": null,
      "outputs": []
    }
  ]
}