{
  "nbformat": 4,
  "nbformat_minor": 0,
  "metadata": {
    "colab": {
      "name": "day11.ipynb",
      "provenance": [],
      "collapsed_sections": []
    },
    "kernelspec": {
      "name": "python3",
      "display_name": "Python 3"
    }
  },
  "cells": [
    {
      "cell_type": "markdown",
      "metadata": {
        "id": "RzWnflGlUdcg"
      },
      "source": [
        "https://adventofcode.com/2020/day/11"
      ]
    },
    {
      "cell_type": "code",
      "metadata": {
        "id": "SKMKHgXI7Ive"
      },
      "source": [
        "input = r'''LLLLLL.LLLLLL.LLLLL.LLLLLLLLLLLLLLL.LLLLLLL.LLLLL.L.LLLLLLL.LLLLLLLLLLLLLL.LLL.L.L.LLLLLLLLL.LLLLL\r\n",
        "LLLLLL.LLLLLL.LLLLLLLLLLLLLLL.LLLLL.LLLLLLL.LLLLLLLLLLLLLLLL.LLLLLLLLLLLLLLLLLLL.LLLLLLLLLL..LLLLL\r\n",
        "LLLLLLLLLLLLL.L.LLL.LLLLLLLL.LLLLLLLLLLLLLL.LLLLLLLLLL.LLLLL.LLLLLLLL.LLLLLLLLLL.LLLLL.LLLLL.LLLLL\r\n",
        "LLLLLL.LLLLLLLLLLLL.LLLLLLLL.L.LLLL.LLLLLLLLLLLLL.LLLL.LLLLL.LL.LLLLL.LLLLLLLLLL.LLLLL.LLLLLL.LLLL\r\n",
        "LLLLLL...LLLLLLLLLLLLLLLLLLL.LLLLLL.LLLLLLL.LLLLL.LLLLLLLLLL.LLLLLLLL.LLLLLLLLLLLLLLLL.LLLLL.LLLLL\r\n",
        "LLLLLLLLLLLLL.LLLLL.LLLLLLLLLLLLLLLLLLLLLLL.LLLL.LLLL.LLLLLL.LLLLLLLLLLLLLLLLLLL.LLLLL.LLLLL.L.LLL\r\n",
        "LLLLLLLLLLLLL.LLLLL.LLLLLLLL.LLLLLLLLLLLLLL..LLLL.LLLL.LLLLL.LLLLLLLL.LLLLLL.LLL.LLLLLLLLLLLLLLLLL\r\n",
        "LLLLLLLLLLLLL.LLLLL.LLLLLLLL.LLLLLLLLLLLLLLLLLLLLLLLLL.LLLLL.LLLLLLL..LLLL.LLLLL.LLLLL.L.LLLLLLLLL\r\n",
        "LLLLL..LLLLLL.LLLLLLLLLLLLLL.LLLLLLLLLLLLLLLLLLLL.LLLL.LLLLLLLLLLLLLL.LLLL.LLLLLLLLL.L.LLLLL.LLLLL\r\n",
        "LLLLLL.LLLLLL.LLLLL.LLLLLLLL.LLLLLL.LLLLLLL.LLLLL.LLLL.LLLLLLLLLLLLLLLLLLL.LLL...LLLLL.LLLLLLLLLLL\r\n",
        "...L...L....LL...LL.........L...LL.L...LLLL......LLLLLL.L.L.....L....L.LL.L.L.L.L...L.L..L.....L..\r\n",
        "LLLLLL.LLLLLL.LLLLL.LLLLLLLL.LL.LLL.LLLLLLLLLLLLL.LL.L.LLLLLLLLLLLLLL.LL.LLLLL.LLLLLLLLLLLLLLLLLLL\r\n",
        "LLLL.LLLLLLLLLLLLLL.LLLLLLLL.LLLLLLLLLLLLLL.LLL.L.LLLL..LLLL.LLLLL.LLLLLLL.LLLLLLLLLLL.LLLLL.LLLLL\r\n",
        "LLLL.LLLLLL.L.LLLLL.LLLLLLLLLLLLLLL.L.LLLLL.LLLLL.L.LL.LLLLL.LLLLLLLL.LLLLLLLLLL.LLLLL.LLLLL.LLLLL\r\n",
        "LLLLLL.LLLLLLLLLLLL.LLLLLLLLLL.LLLLLLLLLLLL.LLLLL.LLLLLLLLLL.LLLLLLLL.LLLL.LLLLLLLLLLLLLLLLLLLLLLL\r\n",
        "LLLLLLLLLLLLLLLLLLL.LLLLLLLLLLLLLLL.LLL.LLLLLLLLL.LLLLLLLLLLLLLLLLLLL.LLLL.L.LLLLLLLLLLL.LLLLL.LLL\r\n",
        "LLLLLLLLLLLLL.LLLL..LLLLLLLL.LLLLLLLLLLLLLL.LLLLL.LLLL.LLLLL.LLLLLLLL.LLLL.LLLL.LLLLLL.LLLLL.LLLLL\r\n",
        "LLLLLLLLLLLLL.LLLLL..LLLLLL..LLLLLL.LLLLLLLLLLLLLLLLLL.LLLLL.LLLLLLLLLLLLL.LLLLLLLLLLLLLLLLLLLLLLL\r\n",
        "......L...LL.....LL..L.L...L...L..L.L.L.....L.LL..LLL.....L........L..........LL.........LLLL.....\r\n",
        "LL.LLLLLLLLL.LLLLLL.LLLLLLLL.LLLLLL.LLLLLLL.LLLLL.LLLL.LLLLL.LLLLLLLLLLLLL.LLLLL.LLLLLLLLLLL.LLLLL\r\n",
        ".L.LLL.LLLLLL.LLLLL.LLLLLLLLLLLLLLL.LLLLLLL.LLLLL.LLLL.LLLLL.LL.LLLLLLLLLL.LLL.LLLLLLLLLLLLL.LLLLL\r\n",
        "LLLLLL..LLLLLLLLLLL.LLLLLLLL..LLLLLLL.LLLLL.LLLLLL.LLLLLLL.L.LLLLLLLL.LLLLLLLLLL.LLLLLLLLLLLL.LLLL\r\n",
        "LLLLLL.LLLLLL.LLLLL.LLLLLLLL.LLLLLL.LLLLLLL.LLLLL..LLL.LLLLL.LLLLLLLL.LLLL.LLLLL.LLLLL.LLLLLLLLLLL\r\n",
        ".L....L....L.L.LLLLL..L....L......L....LL.LLL.L.LL....LL..........L....L.L...LLLL.L..LLL.LL.L.....\r\n",
        "LLLLLL.LLLLLL.LLLLL.LLLLLLLL.LLLLLLLLLL..LL.LLLLL.LLLLLLLLLL.LLLLLLLL.LLLLLLLLLLLLLLLL.LL.LL.LLLLL\r\n",
        "LL.LLL.LLLLLL.LLLLLLLLLLLLLLLLLLLLL.LLLLLLL.LLLL..LLLL.LLLLL.LL.LLLLL.LL.LLLLLLL.LLLLL.LLL.LLLLLLL\r\n",
        "LLL.LLLLLLLLL.LLLLL.LLLLLLLL.LLLLLL.LL.L.LLLLLLLL.LLLL.LLLLLLLLLLLLLL.LLLLLLLL.L.LLLLL.LLLLLLLLLLL\r\n",
        "LLLLL.LLLLLLLLLLLLL.LLLLLLLLLLLLLLLLLLLLLLL.LLLLL.LLL..LLLLLLLLLLLLLL..LLL.LLLLL.LLLLLLLLLLL.LLLLL\r\n",
        "...L.....LL.L..LL..L.LLL..LL...L.LL..L....LL.....L.L.L.LL....L.L.L.......L....L.....L........LLL..\r\n",
        "LLLLLL.LLLLLL.LLLLL.LLLLLLLLLLLLLLL.LLLLLLL.LLLLL.LLLL.LLLLLLLLLLLLLLLLLLL.LLLLL.LLLLL.LLLLLL.LLLL\r\n",
        "LLLLLL.LL.LLLLL.L.LLLLL.LLLLLLLLLLLLLLLLLLLLLLLLLLLLLL.LLLLL.LLLLLLLL.LLLLLLLLLL.L.LLLLLL.LL.LLLLL\r\n",
        "LLLLLL.LLLLLL.LLLLL.LLLLLLLLLLLLLLL.LLLLLL..LLLLL.LLLL.L.LLL.LLLLLLLL.LLLL.LLLLL.LLLLLLLLLLL.L.LLL\r\n",
        "LLLLLL.LLLLLLLLLLLL.LLLLLLLL.LLLL.LLLLLLLLL.LLL.LL.LLL.LLLLL..LLLLLLL.LLLL.LLLLL.LLLLLLLLLL..LLLLL\r\n",
        "LLLLLL.LLLLLL..LLLLLLLLLLLLL.LLLLLL.LLLLLLL.LLLLL.LLLL.LLLLL.L.LLLLLL.LLLLLLLLLL.LLLLL.LLLLL.LLL.L\r\n",
        "LLLLLLLLLLLLL.LLLLL.LLLLLLLLLLLLLLLLLLLLLLL.LLLLLLLLLL.LLLLL.LLLLLLLL.LLLL.LLLLL.LLLLL.LLLLLLLLLLL\r\n",
        "LLLLLLLLLLLLL.LLLLL.LLLLLLLL.LLLLLLLLLLLLLLLLLLLL.LLLLLLLLLL.LLLLLLLL.LL.L.LLLLLLLLLLLLLLLLLLL.LLL\r\n",
        "L.LL..LL....L.L......L...LLL......LL.L.....L.L.LL.L...L..L....L.LLL..LLL..L.L.L..LL...L.LL..LL....\r\n",
        "LLLLLL.LLLLLLL.L.LL.LLLLLLLLLLLLLLL.LLLLLLL..LLLL.LLLL.LLL.L.LLLLLLLLLLLLL.LLLLL.LLLL.LLLLLL.LL.LL\r\n",
        "LLLLLLLLLLLLLLLLLLLLLLLLLLLL.LLLLL.LLL.LLLLLLLLLL.LLLL.LLLLL.L.LLL.LL.LLLL.LLL.LLLLLLLLLLLLL.LLLLL\r\n",
        "LLLLLLLLLLLLLLLLLLL.LLL.LLLLL.LLLLL.L.L.LLLLLLLLL.LLLL.LLLLL.LLLLLLLLLLLLL.LLLLL.LLLLL.LLLLL.LLLLL\r\n",
        "L.LLLL.LLLLLL.LLLLLLL.LLLLLL.LL.LLLLLLLLLLL.LLLLLLLLLLLLLLLLLLLLLLLL...LLL.LLLL..LLLLLLLLLLL.LLLLL\r\n",
        "LLLLLL.LLLLLL.LLL.L.LLLLLLLLLLLLLLLLLLLLLLL.LLLLL.LLLL.L.LLL.LLLLLLLL.LLLL.LLLLL.LLLL..LLLLLLLLLLL\r\n",
        "LLLLLL.LLLLLLLLLLLL.LLLLLLLL.L.LLLL..LLLLLLLLLLLL.LLLLLLLLLL.LLLLLLLLLL.LLLLLLLL.LLLLL.LLLLL.LLLLL\r\n",
        "..L..LL....L.....L..L.LL.L..L.................L....L.....L....L..L...L..L....L...LL...LLL..LL.....\r\n",
        "LLLLLL.LLLLLLLLLLLL.LLLLLLLL.LLLLLL.LLLLLLLLLLLLL.LLLL.LLLLLLLLL.LLLLLL..L.LLLLL.LLL.L.LLLLL.LLLLL\r\n",
        "LLLLLL.LLLLLL.L.LLLLLLLLLLLLLLLL.LL..LLLLLL.LLLLL.LLLL.LLLLL.LLLLLLLL.LLLL.LLLLL.LLLLLLLLLLLLLLLLL\r\n",
        "LLLLLL.LLLLLLLLLLLLLLLLLLLLL.LLLLLL.LLLLLLLLLLLLL.LLLL.LLLLL.LLLLLLLL..LLL.LLLLL.LL.LL.LLLLL.LLLLL\r\n",
        "LLLLLL.LLLLLL..LLLLLLLLLLLLLLLLLLLL.LLLLLLL.LLL.L.LLLLLLLLLLLLLLLLL.LLLLLL.LLLL.LLLLLL.LLLLL.LLLLL\r\n",
        "LLLLLL.LLLLLL.LLLLLLLLLLLLLL.LLLLLL.LLLLLLL.LLLLLLLLLLLLLLLL.LLLLLLLLLLLLL.LLLLL.LLLLL.LL.LLLLLLLL\r\n",
        "L.L...L..LL.L....LL...L..L.L.LL...L..L..L..L...L.LL.LL......L.L..L.L...LL.....L........LL...L.....\r\n",
        "LLLLLLLLLLLLL.LLLLL.LLLLLLLL.LLLLLL.LLLLLLL.LLLLL.LLLLLLLLL..LLLLLLLL.LLLL.LLLLLLLLLLLLLLLLL.LLLLL\r\n",
        "LLLLLL.LLLLLLLLLLLLLLLLLLLLL.LLLLLLLLLLLLLL.LLLLLLLL.LLLLLLLLLLLLLLLL.LLLL.LLLLL.LLLLL.LLLLLLLLLLL\r\n",
        "LLLLLL.LLLLLL.LLLLL.LLLLLLLLLLLLLLL.LLLLLLL.LLLLL.LLLL.LLLLL.LLLLLLLL.LLLL.LLLLLLLLLLL.LLLLL.LLLL.\r\n",
        "LLLLLLLLLLLLLLLLLLL.LLLLLLLLLLLLLLLLLLLLLLL.LLLLLLLLLL.LLLLL.LLLLLLL.LLLLLLLLLLL.LLLLLLLLLLL.LLLLL\r\n",
        "LLLLLL.LLLLLLLLLLLL.LLLLLLLLLL.LLLLLLLLLLLLLLLLL.LLLLLLLLLLLL..LLLLLLLLLLL.LLLLLLL.LLL.LLLLL.LLLLL\r\n",
        "L.LLLL.LLLLLL.L.LLLLLLLLLLLL.LLLLLL.LLLLLLLLLLLLL.LLL.LLLL.LLLLLLLLLL.LLLLLLLLLL.LLLLLLLLLLL.LLLLL\r\n",
        "...L..L.L...LL.....LL......L...L.....L.L......L..LLL.....L..LL....LLL...L..LL..LL.L.L.L.L..L...L.L\r\n",
        ".LLLLL.LLLLLL.LLLLL..LLLLLLL.LLLLLLLL.LLLL..LLLLL.LL.L.LLLLL.LLL.LLLLLLLLL.LLLLLLLLLLLLLLLLL.LLL.L\r\n",
        "LLLLLLLLLLLLL.LL.LL.LLLLLLLLLLLLLLL.LLLLLLLLLLLLLLLLLLLLLLLLLLLLLLLLL.LLLL.LLLLL.LLLLLLLLLLL..LLLL\r\n",
        "LLLL.LLLLLL.LLLLLLL.LLLLLLLL.LLLLLLLLLLLLLLLLLLLL.LLLL..LLLL.LLLLLLLL.LLL...LLLL.LLLLL.LLLLLLLLLLL\r\n",
        "LLL.LLLLLLLLL.LL.LL.LLLLLLLLLLLLLLL.LLLLLLL.LLLLLLLLLLL.L.LL.LLLLLLLLLLLLL.LLLLL.LLLLL.LLLLL.LLLLL\r\n",
        "LLLLLL.LLLLLLLLLLLLLLLLLLLLL.LLLLLL.LLLLLLLLLLLLL.LLLL.LLLLLLLLL.LLLLLLL.L.LLLLL.LLL.L.LLLLL.L.LLL\r\n",
        "..L......LL.........L.L...L.....L.L...LLL.L.....L....L.L...L.L.L.L..L.....L..L...L..L.....L.L...L.\r\n",
        "LLLLLL.LLLLLL.LLLLL.LLLL.LLLL.LLLLL.LLLLLLL.LLLLL.LLLL.LLLLL.LLLLLLLL.LLLLLLL.LL.LLLLLLLLLLL.LLLLL\r\n",
        ".LLLLLLLLL.LL.L.LLL.LLLLLLLLLLLLLLL.LLLLLLLLLL.LLLLLLL.LLLLLLLLLLLLLLLLLLL.LLLLL.LLLLLLLLLLLLLLLLL\r\n",
        "LLLLLL.LLLLLLLLLLLLLL.LLLLLL.LL.LLLL.LLLLLL.LLLLLLLLL..LLLLL.LLLLLLLL.LLLLLLLLLLLLLLLL.LLLLL.LLLLL\r\n",
        "LLLLL..LLLLLL.LLLLL.LLLLLLLLLLLLL.L.LLLLLLL.LLLLLLLLLL.LLLLL.LLLLLLLL.LLLL.LLLLL.LLLLLLLLLLL.LLLLL\r\n",
        "LLLLLL.LLLLLL.LLLLL.LLLLLLLL.LLLLLL.LLLLLLLLLLLLLLLLL..LLLLLLLLLLLLLLLLLLLLLLLLL.LLLLL.LLL.LLLLLLL\r\n",
        "LLLLLL.LLLLLL..LLLL.LLLLLLL..L.LLLLLLLLLLLL.LL.LL.LLLL.LLLLL.LLLLLLLL.LLLLLLLLLL.L.LLL.LLL.L.LLLLL\r\n",
        "LLLLLL.LLLLLL.LLLLL.LLLLLLLL.LLLLL..LLLLLLL.LLLL.LLLLL.LLLLLLLLLLLLLL.LLLL.LLLLL.LLLLL.LLLLL.LLLLL\r\n",
        "LLLLLL.L.LLLL.LLLLL.LLL.LLL..LLLLLL.LLLLLLL.LLLLL.LLLL.LLLLL.L.LLLLLLLLLLL.LLLLLL.LLLL.LLLLL.LLLLL\r\n",
        ".......L......LLL.....L....LL..L....L.L..L..L.L..L.L.....L...L..........L.....L.L.....L.L..LLL.L..\r\n",
        "LLLLLL.LLLLLL..LLLL.LLLLLLLL.LLLLLL.LLLLLLLLLLLLLLLLLL.LL.LL.LLLLLLLL.LLLLLLLLLLLLLLLL.LLLLL.LLLLL\r\n",
        "LLLLLL.LLLLLL.LLLLL.L.LLLLLL.LLLLLL.LLL.LLL.LLLLL.LLLL.LLL.LLLLLLLLLLLLL.L.LL.LL.LLLLLL.LLLL.LL.LL\r\n",
        "LLLLLL.LLL.LLLL.LLL.LL.LLLLL.LL.LLLLLLLLLLLLLLLLL.L.LL.LLLLLLLLLLLLLL.LLLLLLLLLLLLLLLLLL.LLLLLLLLL\r\n",
        "LLL.LL.LLLLLLLLLLLL.LLLLLLLL.LLLL.LLLLLLLLL.LLLLLLLLLL.LLLLLLLLLLL.LLLLLLL.LLLLL..LLL..LLLLL.LLLLL\r\n",
        "LLLLLL..LLLLLLLLLLL.LLLLLLLL.LLLLLL.LLLL.LLLLLLL..LLLL.LLLLL.LLLLLLLL..LLL.LLLLLLLLLLL.LL.LL.LLLLL\r\n",
        "LLLLLLLLLLLLL.LLLLLLLLLLLLLL.LLLLLL.LLLLLLL.LLLLL.LL.LLLLLLL.LLLLLLLLLLLLL.LLLLL.LLLLLLLLLLLLLLLLL\r\n",
        "LLLLLLLLLLLLLLLLLLL.LLLLLL.L.LLLLLL.LLLLLLL.LLLLLL.L.L.LLLLL.LLLLLL.L.LLLLLLLLLL.LLLLL.LLLLL.LLLLL\r\n",
        ".LLLLL.LLLLLLLLLLLLLLLLLLLLL.LLLLLLLLLLLLLL.LLLL..LLLL.LLLLL.LLLLLLLL.LLLL.LLLLLLLLLLL.LLLLLLLLLLL\r\n",
        "LLLLLLLLLLLLL.LLLLL.LLLLLLLL.LLLL.LLLLLLLLLLLLLLLLLLLLLLLLLL.LLLLLLLLLLLLL.LLLLL.LLLLL.LLLLLLLLLLL\r\n",
        ".L.LL....L..L...L.LLL.......L.LL.LL.L.L.L........LL..LL..L.......LL.L.LL...LLL.....L...L...L....L.\r\n",
        "LLLLLL.LLLLLL.LLL.LLLLLLLLLLLLLLLLLLLLLLLLLLLLLLL.LLLLLLLLLL.LLLLLLLL.LLLLLLLLLL.LLLLLLLLLLL.LLLLL\r\n",
        "LLLLLL.LLLLLLLLLLLL.LLLLLLLLLLLLLLL.LLLLLLL.LLLLL.L.LL.LLLLLLLLLLLLLL..LLL.LLLLL.LLL.L.LLLLLLLLLL.\r\n",
        "LLLLLL.LL.LLL.LLLLL.LLLLLLLL.LLLLLLLLLLLLLL..LLLL.LLLL.LLLLL.LLLLLLLL..LLLLLLLL.LLLLL..LLLLL.LLL.L\r\n",
        ".LLLLLLLLLLLL.LLLLL.LLLLLLLL.LLLLLL.LLLLLLL..LLLLLLLLL.LLLLLLLLLLLLLL.LLLL..LLLLLLLLLL.LLLLL.LLLLL\r\n",
        "LLLLLLLLLLLLL.LLLLL.LLLLLL.LLLLLLLL.LLLLL.LLLLLLL.LLLL.LLLLLLLLLLLLLL.LLLLLLLLLLLLL.LL.LLLLL.LLLLL\r\n",
        "LLLLLLLLLLLLL.LLLLL.LLLLLLLLLL.LLLL.LLLLLLL.LLLLL.LLLL.LLLLL.LLLLLLLL.LLLL.LLLLLLLLLLL..LLLL.LLLLL\r\n",
        "LLLLLL.LLLLLL.LLLLL.LLLLLLLL.LLLLLLLLLLLLLLLLLLLL.LLLL.LLLLL.LLLLLLLLL.LLLLLLLLL.LLLLLLLLLLL.LLLLL\r\n",
        "L........L........L.L.L...L........L..............L....L..L....L...L..L.LL.L..L.....L....LL..LL..L\r\n",
        "LLLLLLLLLLLLLLLLLLL.LLLLLLLLLLLLLLL.LLLLLLLLLLLLL.LL.L.LLLLL.LLLLLLLLLLLLL.LLLLLLLLLLL.LLLLL.LLLLL\r\n",
        "LLLLLLL.LLLLL.LLLLLLLLLLL..L.LL.LLLLLLLLLLLLLLLLLLLLLLLLL.LL.L.LLLLLL.L.LL.LLLLLLLLLLLLLLLLLLLLLLL\r\n",
        ".LLLLL.LLLLL..LLLLL.LLLLLLLL.LLLLLL.LL.LLLL..LLL..LLLL.LLLLL.LLLLLLLL.LLLLLLLLLL.LLLLL.LLLLL.LLLLL\r\n",
        "LLLLLL.LLLLLLL.LLLL.LLLLLLLL.LLLLLLLLLL.LLL.LLL.LL.LLL.LLLL.LLLLLLLLLLLLLLLLLLLL.LLLLL.LLLLLLLLLLL\r\n",
        "LL.LL..LLLLLLLLLLLLLLLLLLLLL.LLLLLL.LLLL.LL.LLLLL.LLLL.L.LLL.LLLLLLLLLLLLL.LLLLL.LLLLL.LLLLL.LL.LL\r\n",
        "LLLLLLLLLLLLL.LLLLL.LLLLLLLL.LLLLLL.LLLLLLL.LLLLL.LLLLLLLLLLLLLLLLLLL.LLL.LLLLLL.LLLLL.LLLLLLLLLLL\r\n",
        "LLLLLL.LLLLLLLLLLLL..LLLLLLL.LLLLLL..LLLLLL.LLLLLLLLLLLLLLLL.LLLLLLLLLLLLL.LLL.L.LLLLL.LLLLLLLLLLL'''"
      ],
      "execution_count": 65,
      "outputs": []
    },
    {
      "cell_type": "code",
      "metadata": {
        "id": "Ssq2I6LV7QsQ"
      },
      "source": [
        "from itertools import *\n",
        "from more_itertools import *\n",
        "import numpy as np\n",
        "import networkx as nx\n",
        "import re\n",
        "from sympy.ntheory import factorint\n",
        "from collections import defaultdict\n",
        "import scipy.signal"
      ],
      "execution_count": 66,
      "outputs": []
    },
    {
      "cell_type": "code",
      "metadata": {
        "id": "ixJTWQht7fVV"
      },
      "source": [
        "def main(input):\n",
        "  seat_grid = np.array([[{'.': False, 'L': True}[c] for c in line] for line in input.split('\\n')], dtype=bool)\n",
        "  occ_grid = np.zeros_like(seat_grid, dtype=bool)\n",
        "  #print(\"seat:\", seat_grid)\n",
        "  #for i in range(2):\n",
        "  #  occ_grid = update(seat_grid, init_occ_grid)\n",
        "  #  print(\"occ\", occ_grid)\n",
        "  changed = True\n",
        "  while changed:\n",
        "    new_occ_grid = update(seat_grid, occ_grid)\n",
        "    if not np.array_equal(new_occ_grid, occ_grid):\n",
        "      changed = True\n",
        "      occ_grid = new_occ_grid\n",
        "    else:\n",
        "      changed = False\n",
        "\n",
        "  return occ_grid.sum()"
      ],
      "execution_count": 67,
      "outputs": []
    },
    {
      "cell_type": "code",
      "metadata": {
        "id": "HPjAV-9CIRzR",
        "colab": {
          "base_uri": "https://localhost:8080/"
        },
        "outputId": "fbb2a9bd-15c0-439a-bc9d-291b2b387af5"
      },
      "source": [
        "main(input)"
      ],
      "execution_count": 68,
      "outputs": [
        {
          "output_type": "execute_result",
          "data": {
            "text/plain": [
              "2489"
            ]
          },
          "metadata": {
            "tags": []
          },
          "execution_count": 68
        }
      ]
    },
    {
      "cell_type": "code",
      "metadata": {
        "id": "SSavSblQ8z96",
        "colab": {
          "base_uri": "https://localhost:8080/"
        },
        "outputId": "93076113-5ed9-41a5-eb68-01257cae40c5"
      },
      "source": [
        "kernel = np.ones((3,3), dtype=np.uint8)\r\n",
        "kernel[1,1] = 0\r\n",
        "\r\n",
        "kernel2 = np.ones((3,3), dtype=np.uint8)\r\n",
        "kernel2[1,1] = 20 # could use any number 9 or greater\r\n",
        "\r\n",
        "def update(seat_grid, occ_grid):\r\n",
        "  new_occ_grid = np.copy(occ_grid)\r\n",
        "\r\n",
        "  n_neighbors = scipy.signal.convolve2d(occ_grid, kernel, mode='same')\r\n",
        "  new_occ_grid |= (n_neighbors == 0) & (seat_grid)\r\n",
        "\r\n",
        "  will_exit = scipy.signal.convolve2d(occ_grid, kernel2, mode='same')\r\n",
        "  new_occ_grid &= ~(will_exit >= 24)\r\n",
        "\r\n",
        "  return new_occ_grid\r\n",
        "\r\n",
        "kernel2"
      ],
      "execution_count": 76,
      "outputs": [
        {
          "output_type": "execute_result",
          "data": {
            "text/plain": [
              "array([[ 1,  1,  1],\n",
              "       [ 1, 20,  1],\n",
              "       [ 1,  1,  1]], dtype=uint8)"
            ]
          },
          "metadata": {
            "tags": []
          },
          "execution_count": 76
        }
      ]
    },
    {
      "cell_type": "code",
      "metadata": {
        "id": "ObcpAbIgMtrQ"
      },
      "source": [
        "test_input = r'''L.LL.LL.LL\r\n",
        "LLLLLLL.LL\r\n",
        "L.L.L..L..\r\n",
        "LLLL.LL.LL\r\n",
        "L.LL.LL.LL\r\n",
        "L.LLLLL.LL\r\n",
        "..L.L.....\r\n",
        "LLLLLLLLLL\r\n",
        "L.LLLLLL.L\r\n",
        "L.LLLLL.LL'''"
      ],
      "execution_count": 77,
      "outputs": []
    },
    {
      "cell_type": "code",
      "metadata": {
        "colab": {
          "base_uri": "https://localhost:8080/"
        },
        "id": "EOLioYY4OusN",
        "outputId": "296ccc77-d6a2-4dd0-e1c0-af90ce7528b7"
      },
      "source": [
        "main(test_input)"
      ],
      "execution_count": 78,
      "outputs": [
        {
          "output_type": "execute_result",
          "data": {
            "text/plain": [
              "37"
            ]
          },
          "metadata": {
            "tags": []
          },
          "execution_count": 78
        }
      ]
    },
    {
      "cell_type": "code",
      "metadata": {
        "id": "ItCugloARLiB"
      },
      "source": [
        "def n_neighbors2(seat_grid, occ_grid):\r\n",
        "  n_neighbors = np.zeros_like(occ_grid, dtype=np.uint8)\r\n",
        "  for x in range(seat_grid.shape[0]):\r\n",
        "    for y in range(seat_grid.shape[1]):\r\n",
        "      for di in (-1, 0, 1):\r\n",
        "        for dj in (-1, 0, 1):\r\n",
        "          if not (di == 0 and dj == 0):\r\n",
        "            pos = (x+di, y+dj)\r\n",
        "            while 0 <= pos[0] < seat_grid.shape[0] and 0 <= pos[1] < seat_grid.shape[1]:\r\n",
        "              if seat_grid[pos]:\r\n",
        "                if occ_grid[pos]:\r\n",
        "                  n_neighbors[x, y] += 1\r\n",
        "                break\r\n",
        "              else:\r\n",
        "                pos = (pos[0]+di, pos[1]+dj)\r\n",
        "  return n_neighbors"
      ],
      "execution_count": 79,
      "outputs": []
    },
    {
      "cell_type": "code",
      "metadata": {
        "id": "RlGzcQOBPt47"
      },
      "source": [
        "def update2(seat_grid, occ_grid):\r\n",
        "  new_occ_grid = np.copy(occ_grid)\r\n",
        "\r\n",
        "  n_neighbors = n_neighbors2(seat_grid, occ_grid)\r\n",
        "  new_occ_grid |= (n_neighbors == 0) & (seat_grid)\r\n",
        "\r\n",
        "  new_occ_grid &= ~(occ_grid & (n_neighbors >= 5))\r\n",
        "\r\n",
        "  return new_occ_grid"
      ],
      "execution_count": 80,
      "outputs": []
    },
    {
      "cell_type": "code",
      "metadata": {
        "colab": {
          "base_uri": "https://localhost:8080/"
        },
        "id": "DlE-8I2kRHVo",
        "outputId": "5bc90ba2-8faf-4fbc-cd0f-1e7ab6a35106"
      },
      "source": [
        "def main2(input):\r\n",
        "  seat_grid = np.array([[{'.': False, 'L': True}[c] for c in line] for line in input.split('\\n')], dtype=bool)\r\n",
        "  occ_grid = np.zeros_like(seat_grid, dtype=bool)\r\n",
        "  changed = True\r\n",
        "  while changed:\r\n",
        "    new_occ_grid = update2(seat_grid, occ_grid)\r\n",
        "    if not np.array_equal(new_occ_grid, occ_grid):\r\n",
        "      changed = True\r\n",
        "      occ_grid = new_occ_grid\r\n",
        "    else:\r\n",
        "      changed = False\r\n",
        "\r\n",
        "  return occ_grid.sum()\r\n",
        "\r\n",
        "main2(test_input)"
      ],
      "execution_count": 81,
      "outputs": [
        {
          "output_type": "execute_result",
          "data": {
            "text/plain": [
              "26"
            ]
          },
          "metadata": {
            "tags": []
          },
          "execution_count": 81
        }
      ]
    },
    {
      "cell_type": "code",
      "metadata": {
        "colab": {
          "base_uri": "https://localhost:8080/"
        },
        "id": "1udSbJXiTkuI",
        "outputId": "6a344785-232b-4eb3-ae52-4fb5d092d34c"
      },
      "source": [
        "main2(input)"
      ],
      "execution_count": 82,
      "outputs": [
        {
          "output_type": "execute_result",
          "data": {
            "text/plain": [
              "2180"
            ]
          },
          "metadata": {
            "tags": []
          },
          "execution_count": 82
        }
      ]
    }
  ]
}