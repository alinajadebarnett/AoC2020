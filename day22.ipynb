{
  "nbformat": 4,
  "nbformat_minor": 0,
  "metadata": {
    "colab": {
      "name": "day22.ipynb",
      "provenance": [],
      "collapsed_sections": []
    },
    "kernelspec": {
      "name": "python3",
      "display_name": "Python 3"
    }
  },
  "cells": [
    {
      "cell_type": "markdown",
      "metadata": {
        "id": "7bj8z1oF-BM8"
      },
      "source": [
        "https://adventofcode.com/2020/day/22"
      ]
    },
    {
      "cell_type": "code",
      "metadata": {
        "id": "SKMKHgXI7Ive"
      },
      "source": [
        "#input = r'''Player 1:\r\n",
        "input1 = r'''21\r\n",
        "50\r\n",
        "9\r\n",
        "45\r\n",
        "16\r\n",
        "47\r\n",
        "27\r\n",
        "38\r\n",
        "29\r\n",
        "48\r\n",
        "10\r\n",
        "42\r\n",
        "32\r\n",
        "31\r\n",
        "41\r\n",
        "11\r\n",
        "8\r\n",
        "33\r\n",
        "25\r\n",
        "30\r\n",
        "12\r\n",
        "40\r\n",
        "7\r\n",
        "23\r\n",
        "46'''\r\n",
        "\r\n",
        "#Player 2:\r\n",
        "input2 = r'''22\r\n",
        "20\r\n",
        "44\r\n",
        "2\r\n",
        "26\r\n",
        "17\r\n",
        "34\r\n",
        "37\r\n",
        "43\r\n",
        "5\r\n",
        "15\r\n",
        "18\r\n",
        "36\r\n",
        "19\r\n",
        "24\r\n",
        "35\r\n",
        "3\r\n",
        "13\r\n",
        "14\r\n",
        "1\r\n",
        "6\r\n",
        "39\r\n",
        "49\r\n",
        "4\r\n",
        "28'''"
      ],
      "execution_count": 1,
      "outputs": []
    },
    {
      "cell_type": "code",
      "metadata": {
        "id": "fiNFLrxr2Ddj"
      },
      "source": [
        "test_input1 = r'''9\r\n",
        "2\r\n",
        "6\r\n",
        "3\r\n",
        "1'''\r\n",
        "test_input2 = r'''5\r\n",
        "8\r\n",
        "4\r\n",
        "7\r\n",
        "10'''"
      ],
      "execution_count": 2,
      "outputs": []
    },
    {
      "cell_type": "code",
      "metadata": {
        "id": "ixJTWQht7fVV"
      },
      "source": [
        "def run_round(deck1, deck2):\n",
        "  if deck1[0] > deck2[0]:\n",
        "    deck1.append(deck1[0])\n",
        "    deck1.append(deck2[0])\n",
        "  else:\n",
        "    deck2.append(deck2[0])\n",
        "    deck2.append(deck1[0])\n",
        "  deck1 = deck1[1:]\n",
        "  deck2 = deck2[1:]\n",
        "  return deck1, deck2\n",
        "\n",
        "def calc_score(ls):\n",
        "  return sum([(i+1)*v for i, v in enumerate(reversed(ls))])\n",
        "\n",
        "def main(input1, input2):\n",
        "  deck1 = [int(x) for x in input1.split('\\n')]\n",
        "  deck2 = [int(x) for x in input2.split('\\n')]\n",
        "  \n",
        "  while bool(deck1) and bool(deck2):\n",
        "    deck1, deck2 = run_round(deck1, deck2)\n",
        "  \n",
        "  if deck1:\n",
        "    return calc_score(deck1)\n",
        "  else:\n",
        "    return calc_score(deck2)"
      ],
      "execution_count": 3,
      "outputs": []
    },
    {
      "cell_type": "code",
      "metadata": {
        "id": "HPjAV-9CIRzR",
        "colab": {
          "base_uri": "https://localhost:8080/"
        },
        "outputId": "765f1d0f-980f-42fb-ae61-ef570fd0c855"
      },
      "source": [
        "main(input1, input2)"
      ],
      "execution_count": 4,
      "outputs": [
        {
          "output_type": "execute_result",
          "data": {
            "text/plain": [
              "29764"
            ]
          },
          "metadata": {
            "tags": []
          },
          "execution_count": 4
        }
      ]
    },
    {
      "cell_type": "code",
      "metadata": {
        "colab": {
          "base_uri": "https://localhost:8080/"
        },
        "id": "kdOyPcvG0rGp",
        "outputId": "1f3e6496-3468-4026-fe54-2c2294d5e70a"
      },
      "source": [
        "main(test_input1, test_input2)"
      ],
      "execution_count": 5,
      "outputs": [
        {
          "output_type": "execute_result",
          "data": {
            "text/plain": [
              "306"
            ]
          },
          "metadata": {
            "tags": []
          },
          "execution_count": 5
        }
      ]
    },
    {
      "cell_type": "markdown",
      "metadata": {
        "id": "LiipWy7b2ghF"
      },
      "source": [
        "https://adventofcode.com/2020/day/22#part2"
      ]
    },
    {
      "cell_type": "code",
      "metadata": {
        "id": "bDGp1I_b2g66"
      },
      "source": [
        "from copy import copy\r\n",
        "\r\n",
        "def run_game(deck1, deck2, debug=False):\r\n",
        "  deck1, deck2 = copy(deck1), copy(deck2)\r\n",
        "  card_combos_seen = set()\r\n",
        "  while bool(deck1) and bool(deck2):\r\n",
        "    card_combo = (tuple(deck1), tuple(deck2))\r\n",
        "    if card_combo in card_combos_seen:\r\n",
        "      return 'p1', calc_score(deck1)\r\n",
        "    card_combos_seen.add(card_combo)\r\n",
        "    deck1, deck2 = run_round(deck1, deck2)\r\n",
        "\r\n",
        "  if deck1:\r\n",
        "    return 'p1', calc_score(deck1)\r\n",
        "  else:\r\n",
        "    if debug:\r\n",
        "      print('game end deck2:',deck2)\r\n",
        "    return 'p2', calc_score(deck2)\r\n",
        "\r\n",
        "def run_round(deck1, deck2, debug=False):\r\n",
        "  deck1, deck2 = copy(deck1), copy(deck2)\r\n",
        "  if debug:\r\n",
        "    print('deck 1', deck1)\r\n",
        "    print('deck 2', deck2)\r\n",
        "  if (deck1[0] <= len(deck1)-1) and (deck2[0] <= len(deck2)-1):\r\n",
        "    sub_winner, _ = run_game(deck1[1:deck1[0]+1], deck2[1:deck2[0]+1])\r\n",
        "  else:\r\n",
        "    sub_winner =  'p1' if (deck1[0] > deck2[0]) else 'p2'\r\n",
        "  if sub_winner == 'p1':\r\n",
        "    deck1.append(deck1[0])\r\n",
        "    deck1.append(deck2[0])\r\n",
        "  else:\r\n",
        "    deck2.append(deck2[0])\r\n",
        "    deck2.append(deck1[0])\r\n",
        "  deck1 = deck1[1:]\r\n",
        "  deck2 = deck2[1:]\r\n",
        "  return deck1, deck2\r\n",
        "\r\n",
        "def calc_score(ls):\r\n",
        "  return sum([(i+1)*v for i, v in enumerate(reversed(ls))])\r\n",
        "\r\n",
        "def main(input1, input2, debug=True):\r\n",
        "  deck1 = [int(x) for x in input1.split('\\n')]\r\n",
        "  deck2 = [int(x) for x in input2.split('\\n')]\r\n",
        "  \r\n",
        "  return run_game(deck1, deck2)"
      ],
      "execution_count": 6,
      "outputs": []
    },
    {
      "cell_type": "code",
      "metadata": {
        "colab": {
          "base_uri": "https://localhost:8080/"
        },
        "id": "Kx6Fcu7y2jGs",
        "outputId": "5e618ea8-23e1-405b-f768-3f834b14d7eb"
      },
      "source": [
        "main(test_input1, test_input2)"
      ],
      "execution_count": 7,
      "outputs": [
        {
          "output_type": "execute_result",
          "data": {
            "text/plain": [
              "('p2', 291)"
            ]
          },
          "metadata": {
            "tags": []
          },
          "execution_count": 7
        }
      ]
    },
    {
      "cell_type": "code",
      "metadata": {
        "colab": {
          "base_uri": "https://localhost:8080/"
        },
        "id": "DWmcjjMQ2jJT",
        "outputId": "a612c673-4223-4579-83db-6f6f456ec886"
      },
      "source": [
        "main(input1, input2)"
      ],
      "execution_count": 8,
      "outputs": [
        {
          "output_type": "execute_result",
          "data": {
            "text/plain": [
              "('p1', 32588)"
            ]
          },
          "metadata": {
            "tags": []
          },
          "execution_count": 8
        }
      ]
    }
  ]
}