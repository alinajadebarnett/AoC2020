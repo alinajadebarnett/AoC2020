{
  "nbformat": 4,
  "nbformat_minor": 0,
  "metadata": {
    "colab": {
      "name": "day21.ipynb",
      "provenance": [],
      "collapsed_sections": []
    },
    "kernelspec": {
      "name": "python3",
      "display_name": "Python 3"
    }
  },
  "cells": [
    {
      "cell_type": "markdown",
      "metadata": {
        "id": "_JvmfdyZ0bdR"
      },
      "source": [
        "https://adventofcode.com/2020/day/21"
      ]
    },
    {
      "cell_type": "code",
      "metadata": {
        "id": "SKMKHgXI7Ive"
      },
      "source": [
        "input = r'''xnjhn pgmj lclnj qgnpkp vpfstj ffdsnc mnpfcx tkccrc lkv cgdx rmfmm grjrrm frq lvzjpn vntgs cbzcgvc mnnzf rfdm vxrdlb dvmzkk vpsmz sfp kltxt sxbr dlrpp pqrvc lpqxmc kfgln zzvhml prgnr svpfz scfhknrs nvzjxr tpv jmvxx nxkpfqtg lgtpk vcrs pqqks dxxmnr jlxqpjd qp mjhdfg vbbk qtsjztd tnfgxsn zhxh rrmvn tnn gdfddn jx tbv vnddzb (contains soy, peanuts, sesame)\r\n",
        "lclnj gsbdgk pcgr lsntrr fbcnsr pgckbv tpfjxp cbzcgvc vpmzl vxrdlb qmq fjlhvt bljlvc jfpttz vhxjc tsdz lsx llpvqk vbbk tbrdjm vlbdl mmvgjk pxtg jts nvqgxc lkv qp psrnxh fdsfpg djrbkjr lkgjp ffqpqck vhsh jdfcj lfqpqc zqr qthz prcft nhnnc xmnscmnv qqdxk zvqg mjhdfg flfn fvd qqsr gdgdd dxxmnr vnddzb fnvjz mzsb pqrvc ghkptm krg pqqks dcxcc kltxt hqtdss jx bbsnzc prcbf dcrtvq grjrrm kfgln xgqfzp gmmtk jzfz xtdrm (contains wheat)\r\n",
        "jlxqpjd fdsfpg jgdxt mjhdfg pqrvc qtsjztd vntgs ktfzfj prgnr cbzcgvc lfq pxtg psrnxh nhlrh pzxlmn lkv zpn xtpvjscp kfgln tsdz jmvxx jvx kltxt qntgqv vpfstj prcbf gmmtk ndfq pqqks tsgvdsj qlcd sfp xbj dcfzd tktff fnvjz cgdx mfl zttgff tkccrc tpjf xnjhn nbgl tpfjxp rzjcr jjjn tnfgxsn qdxnn rrmvn vbbk djrbkjr vxrdlb hvhsn qrdq qltxnk (contains dairy, peanuts, shellfish)\r\n",
        "nxkpfqtg vppmgd lclnj kfgln mrj flfn bvn glbpt jx qqdxk ghkptm tpfjxp qlcd tbrdjm jlxqpjd stvl bbsnzc prcft pxtg cpjmc jmvxx zrxbmt zttnb svpfz gppn vvgcfr gdgdd hqtdss lgtpk pqqks vhsh nbgl vxn rfqxzg cbpt tsgvdsj zzvhml dcrtvq zqr lpqxmc vxrdlb mfl msqtqc fdsfpg rdpzthm ktfzfj jts qnsl vpmzl sgfvv xmnscmnv jzfz lsntrr cbzcgvc pgmj lfqpqc xtpvjscp rjj tffgpr vnddzb kmzrf qnjbl cpnxdkk sfp dcvrc ffqpqck prcbf krg psrnxh gffjlg frq qgnpkp qhpds rrmvn hdqdqbm qltxnk lxrtk fvd zhxh vhxjc xzkgmj lkv xtdrm pvpbdk (contains eggs, sesame)\r\n",
        "zvqg zttnb stvl mfl lxrtk dcxcc rmfmm prcbf jmvxx fbcnsr jztckz qrdq mrj qmmzr gdgdd hqtdss vhxjc lgtpk xgqfzp lclnj prgnr ndfq xbf fdsfpg cbzcgvc hdqdqbm djrbkjr tsdz kpsp cpjmc qtsjztd vqmqqr mpklvq mnpfcx xf xnjhn jlxqpjd jvx rjj kfgln jx qmq nvp tkccrc cbpt vnddzb jzfz lkv lvzjpn gppn pqqks ffdsnc lfq mmvgjk nxkpfqtg (contains fish, dairy, eggs)\r\n",
        "nvzjxr jrmnf ndfq jxdcgp cdkx fdsfpg frq cbzcgvc zttnb mzsb rmfmm ghkptm vbbk zvqg hlkqpp jzfz tnrkjkr rdpzthm jztckz vnddzb hvhsn stvl xf kpsp flfn lclnj tpfjxp qrdq cpjmc lxrtk gjcnhb nhnnc lvzjpn djrbkjr gppn cpnxdkk prgnr kxsftq vshth kltxt jhvbj jmvxx pqrvc kfgln pxtg fnvjz vppmgd krg vhxjc qnsl qntgqv fzccd vpsmz gmmtk sclxx dxxmnr vpmzl qp tpjf dzvsv dcvrc sxbr rjj xmcs dvmzkk nhlrh vxn pgckbv jgdxt xjvc dgnvz jvx xmnscmnv lkv xbj kc zpn bvn (contains eggs, sesame)\r\n",
        "xmcs sxbr lclnj xnjhn cpnxdkk fbcnsr lvzjpn vntgs vvgcfr vlbdl pqqks mzsb tbrdjm lnfvdxb tnn jgdxt hvhsn tffgpr tfdfqp qhpds chtd lfq frq sclxx qthz pqrvc pxtg jvx pcgr ffdsnc bfrtj qntgqv jmvxx lkv lsntrr cbzcgvc ghkptm prcft fdsfpg kmzrf gjcnhb vpmzl vppmgd (contains soy, fish)\r\n",
        "zvqg xmcs vhsh cdkx kpsp cbzcgvc jbt prgnr sclxx nhnnc kfgln zzvhml lfqpqc cpnxdkk tpfjxp fbcnsr kxsftq zvdqv fdsfpg zqr nhlrh flfn lkv tffgpr vxn vvgcfr lpqxmc cpjmc pqrvc zttnb dcxcc lkgjp jjjn mtkgvt pqqks jmvxx xf jztckz ffqpqck tsdz dxxmnr mmvgjk vnddzb sxbr qtsjztd nnlmz zpn sgfvv vhxjc qgnpkp djrbkjr (contains fish, eggs, peanuts)\r\n",
        "fvd tsgvdsj dcrtvq gmmtk tpfjxp xmnscmnv vpfstj lfqpqc qntgqv vshth rrmvn jmvxx rzjcr qmq tffgpr qtsjztd qnjbl pgckbv tktff kpsp mzsb glbpt jrmnf jfpttz sfp jdfcj cbzcgvc ljnk fbcnsr lkv jts qp rjj ktfzfj msqtqc dgnvz fjlhvt vntgs trvjv vlbdl srckbnq xjvc mjhdfg zrxbmt qrdq flfn xbf vxrdlb xf stvl vbbk pqqks dxxmnr zpn pxtg svpfz fdsfpg tfdfqp lkgjp lclnj nxkpfqtg nkktc dcvrc lsntrr cgdx pqrvc prgnr bvn kltxt mnnzf mpklvq qtbtcv pvpbdk (contains wheat, soy, dairy)\r\n",
        "jvx vsskb bbsnzc xtpvjscp xgqfzp mrj psrnxh xbj fdsfpg qqsr lxrtk qqdxk lnfvdxb sxbr msqtqc mnnzf lpqxmc qlcd sgfvv vpfstj lfqpqc llpvqk jmvxx ljnk zqr lkv hqtdss fvd prgnr cpjmc lsx xjvc jfpttz vppmgd grjrrm lkgjp ndfq vhsh kfgln pqqks qgnpkp jdfcj mfl pqrvc lgtpk kc jjjn gmmtk tnfgxsn tnrkjkr gjcnhb rjj vcrs nkktc cbzcgvc nbgl vhxjc (contains soy, fish, dairy)\r\n",
        "gdgdd nbgl lkgjp cpnxdkk stvl cgdx nxkpfqtg tpv lxrtk tktff kltxt jbt xgqfzp jmvxx tffgpr tnn dcxcc cbzcgvc sgfvv vnddzb gppn sfp zvqg vpmzl mfl hdqdqbm qqsr pcgr mjhdfg qtsjztd gffjlg tpfjxp pqqks pxtg dvmzkk zrxbmt xtpvjscp kfgln lkv lclnj psrnxh pgmj fnvjz qmmzr bfrtj rfqxzg pqrvc nnlmz sclxx dcrtvq qltxnk lfq (contains peanuts, eggs, fish)\r\n",
        "nhlrh jts cbzcgvc jztckz nvzjxr xbj zvdqv cbpt nnlmz qqdxk nhnnc jxdcgp mtkgvt pgmj tffgpr jbt qtsjztd xbf pqrvc lkv vvgcfr lfq jvx cpjmc vqmqqr chtd ffdsnc nzhsjkt qthz qhpds pqqks tkccrc tsgvdsj zhxh vppmgd fjlhvt qmmzr lclnj mfl qrdq kfgln qdxnn tpfjxp rrmvn trvjv dgnvz rdpzthm dvmzkk xgqfzp kpsp lpqxmc sxbr lfqpqc bfrtj gsbdgk bvn xtpvjscp flfn xnjhn rjj rfdm jlxqpjd lkgjp glbpt jmvxx qtbtcv fzccd qp tsdz tpjf qnjbl frq tfdfqp lxrtk ktfzfj mjhdfg (contains soy, eggs, fish)\r\n",
        "jdfcj lxrtk nvp dcfzd tbv lsntrr pqrvc vlbdl dlrpp nkktc vpsmz jjjn cpnxdkk xmnscmnv fbcnsr cbzcgvc frq kfgln ffdsnc hvhsn mpklvq lfq fzccd kxsftq fdsfpg bbsnzc cpjmc vqmqqr jbt vhsh cbpt jmvxx gdgdd zvqg lsx vbbk lkgjp nvzjxr fnvjz dzvsv qhpds lvzjpn nvqgxc jfpttz qtbtcv gsbdgk nhnnc lclnj djrbkjr xnjhn qrdq hqtdss xtpvjscp jts pqqks mmvgjk dcvrc tsgvdsj zpn vshth (contains eggs)\r\n",
        "bbsnzc vvgcfr ljnk bfrtj zttgff xbf fjlhvt kpsp glbpt xmcs lkv pgmj qgnpkp gsbdgk lclnj jlxqpjd tnrkjkr dzvsv dxxmnr xjvc xtpvjscp nvqgxc qdxnn srckbnq mpklvq kfgln pcgr rrmvn gffjlg tktff fdsfpg mfl mrj hvhsn pqrvc mnnzf xgqfzp vhxjc vlbdl jmvxx tnfgxsn psrnxh tffgpr qthz hdqdqbm nvp nnlmz qltxnk dcfzd qmq jgdxt gppn ndfq chtd cgdx tpfjxp xnjhn rfqxzg vppmgd rzjcr zqr jbt lsntrr xzkgmj cbzcgvc (contains soy)\r\n",
        "nhnnc xtdrm cgdx vpmzl kpsp qtbtcv kfgln mpklvq lclnj mtkgvt trvjv xmnscmnv nzhsjkt fzccd lpqxmc llpvqk lvzjpn bfrtj hvhsn ndfq sgfvv jgdxt gppn rfqxzg qmq pgckbv rfdm fvd nkktc hlkqpp vpfstj xf rjj tnfgxsn glbpt jfpttz bvn lkv qntgqv gmmtk tpjf ffdsnc jts mnpfcx krg lgtpk dgnvz qthz vntgs rdpzthm vsskb lsx cbzcgvc tffgpr tbrdjm vnddzb fdsfpg ghkptm zvqg zvdqv msqtqc lkgjp jmvxx jjjn pcgr dcxcc jztckz pqrvc cpnxdkk (contains soy)\r\n",
        "lsx vxrdlb sxbr pqqks qmmzr kxsftq cdkx rfdm vbbk tsdz xf vpmzl fnvjz zttgff xzkgmj vshth nzhsjkt kltxt gsbdgk chtd lkv fvd qnjbl hvhsn vlbdl jmvxx zvdqv pgmj kfgln svpfz nkktc xmnscmnv rdpzthm rmfmm ghkptm tnfgxsn vhxjc pqrvc vcrs jts xjvc cbzcgvc mzsb fdsfpg pvpbdk bljlvc lfq xgqfzp dlrpp prcbf jxdcgp (contains shellfish, eggs, dairy)\r\n",
        "psrnxh pqqks xbf xjvc nhlrh vxn pcgr srckbnq zttnb tktff sgfvv fbcnsr qntgqv lsx dcrtvq cbzcgvc qmq jmvxx qlcd nvqgxc rmfmm pzxlmn jgdxt vhxjc xtpvjscp chtd jrmnf zqr pqrvc rfqxzg jhvbj tnrkjkr cgdx prcbf ndfq gdgdd tffgpr pvpbdk lkv vpsmz rrmvn zzvhml krg gmmtk ktfzfj mpklvq dvmzkk kltxt mrj fdsfpg vntgs rfdm lclnj (contains fish)\r\n",
        "qdxnn nhlrh qrdq kxsftq dlrpp xzkgmj mmvgjk cpnxdkk pzxlmn pvpbdk lclnj xbj bvn gsbdgk tsgvdsj vcrs lkgjp tpfjxp fdsfpg lkv psrnxh zqr vhsh vqmqqr qmmzr jrmnf ljnk prgnr dcfzd srckbnq lgtpk sgfvv bljlvc pqrvc jxdcgp mpklvq ffdsnc dcrtvq nvp chtd kmzrf hqtdss qqsr ffqpqck tnrkjkr bfrtj vhxjc tbrdjm qntgqv nbgl jlxqpjd dgnvz lxrtk vpfstj kfgln dcvrc vntgs smk tkccrc xtpvjscp ghkptm bbsnzc vnddzb jdfcj lfq ndfq mjhdfg vshth llpvqk xtdrm nxkpfqtg jmvxx qthz pqqks tfdfqp prcbf jx lsx hlkqpp (contains fish, eggs, wheat)\r\n",
        "qp kfgln kpsp vxn vntgs dcfzd vnddzb lfq pqrvc cbzcgvc nhlrh jmvxx dcrtvq lvzjpn zttgff zhxh pqqks bljlvc pcgr jlxqpjd lkv chtd zttnb kc lfqpqc nvp dcxcc pzxlmn jjjn prcbf pxtg tpv gjcnhb zzvhml mrj zvqg llpvqk trvjv pvpbdk vxrdlb lclnj xgqfzp smk (contains eggs, wheat)\r\n",
        "vxn qltxnk vsskb zttnb rdpzthm qmq fdsfpg jlxqpjd mrj prcbf qqsr jgdxt dcfzd qmmzr vhxjc vbbk pqrvc pgckbv xnjhn jzfz srckbnq nhlrh kfgln fjlhvt gffjlg vxrdlb pcgr lkgjp jmvxx scfhknrs ffdsnc tpjf tffgpr xmcs mmvgjk krg qrdq tfdfqp ndfq vhsh mjhdfg qqdxk tnn qtbtcv grjrrm trvjv fzccd zvdqv kmzrf sfp nvzjxr vqmqqr frq nvqgxc cbzcgvc zqr cpjmc jbt lkv bbsnzc rfdm psrnxh mpklvq vpfstj gjcnhb lclnj xbf lfqpqc dlrpp jx rrmvn (contains eggs, soy, wheat)\r\n",
        "pqqks zhxh sxbr ghkptm vvgcfr gsbdgk cdkx qnjbl fzccd fdsfpg rrmvn fbcnsr lfqpqc flfn fnvjz cbzcgvc rfqxzg vqmqqr xnjhn rzjcr jmvxx nvqgxc prcbf lfq qntgqv xgqfzp scfhknrs rmfmm sfp jhvbj zttgff dxxmnr tkccrc lkv dcxcc ktfzfj xtdrm qnsl kfgln qtsjztd kxsftq qqdxk lclnj lxrtk mfl bbsnzc tpfjxp xmnscmnv (contains eggs, shellfish)\r\n",
        "fdsfpg kfgln cbpt ktfzfj rmfmm fnvjz ndfq xmnscmnv vhsh glbpt vppmgd nvp tpv vhxjc tsdz fvd qnjbl bbsnzc zzvhml jjjn sclxx nkktc bfrtj gffjlg lkv srckbnq pqqks jzfz mtkgvt pqrvc tkccrc xnjhn qnsl gdfddn nbgl vpfstj kltxt hdqdqbm jbt lclnj qhpds vshth qthz nhlrh mnnzf tnn tffgpr cpjmc nhnnc jmvxx qdxnn grjrrm prcft qqdxk vntgs fzccd rdpzthm pvpbdk pgmj zvdqv rfqxzg jlxqpjd zrxbmt ffdsnc ffqpqck qtsjztd lgtpk lxrtk (contains fish, sesame)\r\n",
        "fbcnsr vpsmz fdsfpg jbt trvjv rmfmm qthz grjrrm jmvxx ffqpqck jjjn qlcd mzsb dcxcc cpjmc lsntrr qqdxk sgfvv dvmzkk nzhsjkt dcvrc qtbtcv djrbkjr xtdrm dxxmnr bfrtj mjhdfg cbpt vpmzl cpnxdkk ljnk pqqks vhxjc fzccd gffjlg fnvjz kxsftq vpfstj tnrkjkr vntgs lgtpk jlxqpjd vlbdl vshth pxtg lfq vbbk mpklvq dgnvz vcrs pqrvc xnjhn lclnj qqsr xbf lkv kmzrf vhsh lxrtk lvzjpn rfdm svpfz gmmtk zzvhml qrdq hlkqpp fvd kpsp kfgln cdkx tbv tnfgxsn (contains fish)\r\n",
        "rzjcr lgtpk tbv jmvxx kfgln qtsjztd cbzcgvc frq lfq qrdq lkv tktff nvzjxr lpqxmc qqsr chtd mmvgjk glbpt tpjf nnlmz mrj ghkptm rmfmm pvpbdk tfdfqp pqqks qntgqv jgdxt vsskb nhnnc sclxx xmnscmnv vqmqqr xf nzhsjkt xbf fzccd psrnxh qp pzxlmn qthz krg lclnj bvn jts grjrrm kmzrf ffdsnc nxkpfqtg qlcd jrmnf tpv zttgff vlbdl qdxnn tnrkjkr fdsfpg (contains shellfish)\r\n",
        "zzvhml jfpttz vcrs zvqg glbpt tsdz pqrvc vlbdl jmvxx tffgpr cbzcgvc tnfgxsn vpmzl qnjbl xmnscmnv ghkptm qqdxk scfhknrs xbj jztckz nbgl kxsftq gppn rfqxzg fdsfpg qltxnk nzhsjkt pvpbdk mfl zrxbmt lkv chtd vhxjc jzfz prgnr xmcs kc mrj nnlmz kfgln jbt sxbr gdfddn mzsb bvn bljlvc xtdrm dcxcc dcfzd tpv ktfzfj zpn rjj pqqks hqtdss vpfstj djrbkjr vppmgd fjlhvt dcrtvq tpfjxp ffqpqck (contains dairy, shellfish)\r\n",
        "jmvxx jfpttz cbzcgvc mpklvq scfhknrs pxtg mrj vpsmz sgfvv xjvc ghkptm lkgjp nvp lclnj kfgln jjjn hqtdss vpfstj jts xtpvjscp kxsftq qqsr qp fvd dcxcc lsx gdgdd kpsp gmmtk smk gppn lfqpqc sxbr pvpbdk rjj hvhsn nhnnc tpjf tsgvdsj pqrvc lsntrr tsdz flfn msqtqc dxxmnr xf cgdx pqqks sclxx ffqpqck qqdxk jvx xgqfzp jx dcrtvq qnsl qdxnn lvzjpn tktff nbgl llpvqk vppmgd vbbk zvqg vxn bljlvc lxrtk dzvsv zzvhml hdqdqbm bvn qmq nhlrh mtkgvt xtdrm lkv (contains shellfish, sesame, wheat)\r\n",
        "cpnxdkk tnn lsx lclnj lvzjpn nzhsjkt qmq pqrvc qqdxk zqr qp jmvxx dvmzkk rmfmm fnvjz fdsfpg qgnpkp vppmgd nxkpfqtg dcrtvq cgdx vxn sgfvv jlxqpjd lkv lfq lkgjp mrj hqtdss cbzcgvc vxrdlb jztckz vpsmz nvqgxc cdkx xbj dcvrc gjcnhb jx gffjlg rjj zvdqv jzfz qrdq qqsr rdpzthm bfrtj vvgcfr tktff hvhsn lnfvdxb gmmtk scfhknrs kfgln zrxbmt lpqxmc rzjcr jrmnf qlcd qnsl nkktc qhpds mzsb psrnxh xf xtdrm vhsh sfp (contains soy)\r\n",
        "pvpbdk grjrrm jx gdfddn dvmzkk qltxnk glbpt tnrkjkr qmmzr vpsmz zvqg vcrs pgmj rjj qp nvzjxr qtbtcv dcvrc pqqks kfgln bvn qqdxk nkktc pqrvc sclxx mnpfcx sfp cbpt bbsnzc prcbf xbf gsbdgk xf rfqxzg xmcs vntgs lkv gjcnhb dcrtvq nhlrh zqr fdsfpg trvjv fbcnsr rfdm jts cpjmc cbzcgvc nvqgxc tktff qrdq smk lclnj xmnscmnv tsdz jzfz jjjn vlbdl tffgpr rrmvn pgckbv mrj zzvhml jvx cgdx tkccrc prcft ffdsnc cdkx rzjcr vqmqqr fvd qnsl zpn gffjlg fnvjz nnlmz jztckz jrmnf qthz (contains peanuts, sesame, soy)\r\n",
        "xf vbbk jzfz vxn zttgff pxtg chtd nvzjxr pcgr qmmzr tfdfqp krg sgfvv mzsb rfqxzg nnlmz jx lsx vpsmz rjj qgnpkp fdsfpg xbf prgnr jmvxx kfgln cbzcgvc kxsftq zhxh dlrpp tnn tkccrc jxdcgp pgckbv grjrrm tpfjxp mfl bfrtj mmvgjk trvjv qthz bvn pqqks lclnj xjvc lkv prcft (contains sesame, peanuts)\r\n",
        "sfp zzvhml lvzjpn jhvbj tfdfqp smk dlrpp gdgdd rrmvn qnsl qltxnk jxdcgp rfdm jmvxx vshth kltxt tbrdjm qmmzr jztckz lkv nvzjxr jjjn vnddzb zttnb chtd kxsftq lnfvdxb sgfvv mnpfcx nnlmz pqrvc jfpttz vvgcfr tffgpr mzsb jvx lclnj hvhsn qqsr pqqks pgmj mnnzf fdsfpg ffqpqck llpvqk vppmgd xjvc kfgln vpsmz pxtg (contains shellfish, soy, dairy)\r\n",
        "bfrtj nvqgxc xtdrm zttnb sxbr sfp kltxt qntgqv vqmqqr qthz prcbf qp zrxbmt jmvxx tpv kfgln mtkgvt tfdfqp sgfvv ljnk mrj gdfddn stvl cbzcgvc lsx trvjv mnpfcx xtpvjscp dvmzkk fdsfpg xbj tbrdjm vshth sclxx qtsjztd mpklvq ffdsnc qqdxk vcrs qhpds qltxnk lfq smk qrdq lpqxmc qqsr qmmzr vhsh tnn pqqks djrbkjr scfhknrs qlcd bbsnzc lclnj xgqfzp fbcnsr pqrvc (contains wheat)\r\n",
        "lfqpqc krg nnlmz ffdsnc jxdcgp cbzcgvc lkv gjcnhb cgdx qmq kfgln pcgr vvgcfr sxbr kxsftq lxrtk rjj cpnxdkk dgnvz fdsfpg jhvbj jzfz zpn stvl tffgpr prcft tpv jztckz pqqks zvdqv lsntrr xnjhn lgtpk cdkx tnfgxsn kpsp tpfjxp qhpds sclxx ndfq qgnpkp jmvxx pqrvc mpklvq mrj hdqdqbm tnn srckbnq fbcnsr vhxjc lkgjp xf hvhsn bvn hqtdss jlxqpjd sgfvv nkktc xbj kmzrf vnddzb gmmtk fnvjz cpjmc dzvsv xmnscmnv dlrpp fvd fjlhvt nbgl (contains eggs, sesame, fish)\r\n",
        "vqmqqr nxkpfqtg qntgqv tffgpr lgtpk hdqdqbm nvzjxr rfdm vntgs jvx pqrvc djrbkjr lvzjpn qnsl rfqxzg vpsmz rdpzthm jzfz ghkptm lfq jmvxx lxrtk xbf dcfzd tbrdjm vxn gppn qthz qrdq lclnj tpv cbzcgvc gjcnhb srckbnq nbgl pgmj pxtg gsbdgk mnpfcx zrxbmt pqqks grjrrm kfgln pvpbdk sclxx dcrtvq fvd nhnnc tkccrc qltxnk mjhdfg fdsfpg jxdcgp mzsb (contains shellfish, sesame)\r\n",
        "jts zhxh xbf qqdxk nbgl kxsftq cbzcgvc lnfvdxb vsskb zqr xtpvjscp jvx jxdcgp vxn nnlmz qp mmvgjk fdsfpg rzjcr jbt pzxlmn pqqks qnsl mnpfcx dcxcc cgdx jfpttz bvn zvqg pqrvc tnfgxsn lsntrr vnddzb qlcd gffjlg zvdqv rjj tpjf dlrpp pcgr dvmzkk hqtdss prgnr jztckz kfgln lxrtk cpnxdkk jmvxx prcft scfhknrs vvgcfr dcvrc smk tkccrc vshth jhvbj vcrs gdgdd krg trvjv tpfjxp tktff fbcnsr dzvsv lkv tpv msqtqc vqmqqr (contains shellfish)\r\n",
        "tktff zvqg vhxjc hqtdss lclnj jbt xtdrm nnlmz vpfstj tsgvdsj jx tpv qmmzr jvx xzkgmj prcbf fbcnsr vbbk qnsl trvjv rjj zpn lfq dxxmnr nkktc jdfcj jts krg kfgln tbrdjm xbf stvl jzfz tkccrc mzsb zrxbmt jztckz mnnzf jgdxt tbv kltxt qhpds qdxnn gjcnhb pqrvc jmvxx fnvjz jjjn cbzcgvc pqqks zvdqv mfl zzvhml ljnk scfhknrs lkv djrbkjr nxkpfqtg jrmnf pgmj ndfq mnpfcx sgfvv pgckbv vsskb bfrtj qqdxk xgqfzp chtd hdqdqbm qthz mmvgjk lnfvdxb (contains peanuts, soy, wheat)\r\n",
        "lnfvdxb qnjbl smk tbrdjm prcft zvdqv nhnnc lclnj prcbf cbzcgvc zvqg tsdz ghkptm zhxh qntgqv lxrtk fdsfpg flfn hvhsn jgdxt bbsnzc ffqpqck kfgln lkv chtd qp mnpfcx sxbr xmcs xmnscmnv jvx jrmnf xjvc zrxbmt gjcnhb lgtpk dcxcc vvgcfr gdgdd sfp svpfz pqrvc pqqks frq grjrrm (contains wheat)\r\n",
        "flfn kfgln jx vppmgd lnfvdxb lfqpqc zqr tfdfqp vntgs vshth kxsftq jdfcj jbt prgnr qgnpkp qhpds jzfz ndfq qlcd lkv vhxjc tpjf pqrvc hdqdqbm xmcs fdsfpg rfqxzg jvx rzjcr vxn cbzcgvc jmvxx xzkgmj hvhsn vqmqqr qmq nzhsjkt nkktc pqqks (contains shellfish)\r\n",
        "zvdqv hlkqpp zttnb cbzcgvc dlrpp fvd vntgs fbcnsr kfgln jvx pcgr jgdxt nvzjxr dcfzd lsx dgnvz mtkgvt jzfz hvhsn qntgqv xf kmzrf rdpzthm tktff vsskb lkv gdgdd pqrvc cbpt xbf tkccrc gjcnhb sfp vpsmz msqtqc vxrdlb jmvxx gffjlg rmfmm fdsfpg pgmj tpfjxp dcrtvq fnvjz rfqxzg gmmtk svpfz prgnr xbj qtbtcv vhsh tbv mjhdfg pqqks tsdz flfn vbbk lnfvdxb nbgl grjrrm rfdm rjj bfrtj qrdq pgckbv qqdxk vhxjc (contains shellfish)'''"
      ],
      "execution_count": 1,
      "outputs": []
    },
    {
      "cell_type": "code",
      "metadata": {
        "id": "Ssq2I6LV7QsQ"
      },
      "source": [
        "from collections import defaultdict\n",
        "from copy import copy\n",
        "import re"
      ],
      "execution_count": 2,
      "outputs": []
    },
    {
      "cell_type": "code",
      "metadata": {
        "id": "ixJTWQht7fVV"
      },
      "source": [
        "line_regex = re.compile(r'(?P<ingredients>[a-z ]+) \\(contains (?P<allergens>[a-z, ]+)\\)')\n",
        "\n",
        "def main(input):\n",
        "  all_ingredients = set()\n",
        "  for line in input.split('\\n'):\n",
        "    mo = line_regex.fullmatch(line)\n",
        "    assert mo is not None\n",
        "    ingredients, allergens = mo.group(1,2)\n",
        "    ingredients = list(ingredients.split(' '))\n",
        "    allergens = list(allergens.split(', '))\n",
        "    all_ingredients |= set(ingredients)\n",
        "\n",
        "  allergen_map = defaultdict(lambda: copy(all_ingredients))\n",
        "  for line in input.split('\\n'):\n",
        "    mo = line_regex.fullmatch(line)\n",
        "    assert mo is not None\n",
        "    ingredients, allergens = mo.group(1,2)\n",
        "    ingredients = set(ingredients.split(' '))\n",
        "    allergens = list(allergens.split(', '))\n",
        "    for allergen in allergens:\n",
        "      allergen_map[allergen] &= ingredients\n",
        "  \n",
        "  l = list(allergen_map.items())\n",
        "  l.sort(key=lambda x: len(x[1]))\n",
        "\n",
        "  final_allergen_map = {}\n",
        "  claimed_ingredients = set()\n",
        "  while len(final_allergen_map) < len(allergen_map):\n",
        "    for allergen, ingredients in l:\n",
        "      ingredients -= claimed_ingredients\n",
        "      if not (len(ingredients) == 1):\n",
        "        continue\n",
        "      ingredient, = ingredients\n",
        "      final_allergen_map[allergen] = ingredient\n",
        "      claimed_ingredients.add(ingredient)\n",
        "\n",
        "  acc = set()\n",
        "  for s in final_allergen_map.values():\n",
        "    acc |= set([s])\n",
        "\n",
        "  counter = 0\n",
        "  inp_copy = copy(input)\n",
        "  for i in sorted(list(all_ingredients), key=lambda x: -len(x)):\n",
        "    if i not in acc:\n",
        "      counter += inp_copy.count(i)\n",
        "    inp_copy = inp_copy.replace(i, ' ')\n",
        "  \n",
        "  return final_allergen_map, counter"
      ],
      "execution_count": 3,
      "outputs": []
    },
    {
      "cell_type": "code",
      "metadata": {
        "id": "HPjAV-9CIRzR",
        "colab": {
          "base_uri": "https://localhost:8080/"
        },
        "outputId": "bc8e219e-43fc-4b8b-fb4e-11ae885fc0d8"
      },
      "source": [
        "final_allergen_map, counter = main(input)\r\n",
        "counter"
      ],
      "execution_count": 4,
      "outputs": [
        {
          "output_type": "execute_result",
          "data": {
            "text/plain": [
              "2072"
            ]
          },
          "metadata": {
            "tags": []
          },
          "execution_count": 4
        }
      ]
    },
    {
      "cell_type": "code",
      "metadata": {
        "id": "SSavSblQ8z96"
      },
      "source": [
        "test_input = r'''mxmxvkd kfcds sqjhc nhms (contains dairy, fish)\r\n",
        "trh fvjkl sbzzf mxmxvkd (contains dairy)\r\n",
        "sqjhc fvjkl (contains soy)\r\n",
        "sqjhc mxmxvkd sbzzf (contains fish)'''"
      ],
      "execution_count": 5,
      "outputs": []
    },
    {
      "cell_type": "code",
      "metadata": {
        "colab": {
          "base_uri": "https://localhost:8080/"
        },
        "id": "EzlSam_sxCVF",
        "outputId": "7c74dc17-8777-4c21-ed07-38eed919604b"
      },
      "source": [
        "_, counter = main(test_input)\r\n",
        "counter"
      ],
      "execution_count": 6,
      "outputs": [
        {
          "output_type": "execute_result",
          "data": {
            "text/plain": [
              "5"
            ]
          },
          "metadata": {
            "tags": []
          },
          "execution_count": 6
        }
      ]
    },
    {
      "cell_type": "markdown",
      "metadata": {
        "id": "FmlRHL3Cy4J1"
      },
      "source": [
        "https://adventofcode.com/2020/day/21#part2"
      ]
    },
    {
      "cell_type": "code",
      "metadata": {
        "colab": {
          "base_uri": "https://localhost:8080/",
          "height": 35
        },
        "id": "382CDLzoxD5m",
        "outputId": "e36db651-1f55-4268-9d6d-1934991741db"
      },
      "source": [
        "l = list(final_allergen_map.items())\r\n",
        "l.sort()\r\n",
        "','.join([v for k, v in l])"
      ],
      "execution_count": 7,
      "outputs": [
        {
          "output_type": "execute_result",
          "data": {
            "application/vnd.google.colaboratory.intrinsic+json": {
              "type": "string"
            },
            "text/plain": [
              "'fdsfpg,jmvxx,lkv,cbzcgvc,kfgln,pqqks,pqrvc,lclnj'"
            ]
          },
          "metadata": {
            "tags": []
          },
          "execution_count": 7
        }
      ]
    }
  ]
}