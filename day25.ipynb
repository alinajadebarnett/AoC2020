{
  "nbformat": 4,
  "nbformat_minor": 0,
  "metadata": {
    "colab": {
      "name": "day25.ipynb",
      "provenance": [],
      "collapsed_sections": []
    },
    "kernelspec": {
      "name": "python3",
      "display_name": "Python 3"
    }
  },
  "cells": [
    {
      "cell_type": "markdown",
      "metadata": {
        "id": "4sBL-M8EVzm3"
      },
      "source": [
        "https://adventofcode.com/2020/day/25"
      ]
    },
    {
      "cell_type": "code",
      "metadata": {
        "id": "SKMKHgXI7Ive"
      },
      "source": [
        "input1 = 18499292\r\n",
        "input2 = 8790390"
      ],
      "execution_count": 1,
      "outputs": []
    },
    {
      "cell_type": "code",
      "metadata": {
        "id": "ixJTWQht7fVV"
      },
      "source": [
        "def multi_loop(subject_number, current_value, num_loops):\n",
        "  for _ in range(num_loops):\n",
        "    current_value = single_loop(subject_number, current_value)\n",
        "  return current_value\n",
        "\n",
        "def single_loop(subject_number, current_value):\n",
        "  current_value *= subject_number\n",
        "  current_value = current_value % 20201227\n",
        "  return current_value\n",
        "\n",
        "def get_num_loops(subject_number, public_key):\n",
        "\n",
        "  current_value = single_loop(subject_number, 1)\n",
        "  for num_loops in range(1, 1000000000):\n",
        "    if current_value == public_key:\n",
        "      return num_loops\n",
        "    current_value = single_loop(subject_number, current_value)\n",
        "\n",
        "  print(\"Error, num loops greater than 1000000000.\")\n",
        "  return 0\n",
        "\n",
        "def main(input1, input2, debug=False):\n",
        "  sub_num = 7\n",
        "\n",
        "  loops_door = get_num_loops(sub_num, input1)\n",
        "  loops_key = get_num_loops(sub_num, input2)\n",
        "\n",
        "  ret = multi_loop(input1, 1, loops_key)\n",
        "\n",
        "  return ret"
      ],
      "execution_count": 3,
      "outputs": []
    },
    {
      "cell_type": "code",
      "metadata": {
        "id": "5gHUBNfCUTiX"
      },
      "source": [
        "test_input1 = 5764801\r\n",
        "test_input2 = 17807724"
      ],
      "execution_count": 4,
      "outputs": []
    },
    {
      "cell_type": "code",
      "metadata": {
        "colab": {
          "base_uri": "https://localhost:8080/"
        },
        "id": "qpP4FDkXUaN3",
        "outputId": "de8444f1-4c1e-47e5-d749-7a19badf08e8"
      },
      "source": [
        "main(test_input1, test_input2, debug=False)"
      ],
      "execution_count": 5,
      "outputs": [
        {
          "output_type": "execute_result",
          "data": {
            "text/plain": [
              "14897079"
            ]
          },
          "metadata": {
            "tags": []
          },
          "execution_count": 5
        }
      ]
    },
    {
      "cell_type": "code",
      "metadata": {
        "id": "HPjAV-9CIRzR",
        "colab": {
          "base_uri": "https://localhost:8080/"
        },
        "outputId": "32398d6e-e920-41e6-8949-a9998832ee66"
      },
      "source": [
        "main(input1, input2, debug=False)"
      ],
      "execution_count": 6,
      "outputs": [
        {
          "output_type": "execute_result",
          "data": {
            "text/plain": [
              "18433997"
            ]
          },
          "metadata": {
            "tags": []
          },
          "execution_count": 6
        }
      ]
    }
  ]
}